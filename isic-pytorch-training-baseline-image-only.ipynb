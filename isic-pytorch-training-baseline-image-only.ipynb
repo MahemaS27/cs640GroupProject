{
 "cells": [
  {
   "cell_type": "markdown",
   "metadata": {
    "papermill": {
     "duration": 0.01095,
     "end_time": "2024-06-29T23:17:23.709233",
     "exception": false,
     "start_time": "2024-06-29T23:17:23.698283",
     "status": "completed"
    },
    "tags": []
   },
   "source": [
    "# <span><h1 style = \"font-family: garamond; font-size: 40px; font-style: normal; letter-spcaing: 3px; background-color: #f6f5f5; color :#fe346e; border-radius: 100px 100px; text-align:center\">Import Required Libraries 📚</h1></span>"
   ]
  },
  {
   "cell_type": "code",
   "execution_count": 192,
   "metadata": {
    "papermill": {
     "duration": 13.648463,
     "end_time": "2024-06-29T23:17:37.368242",
     "exception": false,
     "start_time": "2024-06-29T23:17:23.719779",
     "status": "completed"
    },
    "tags": []
   },
   "outputs": [
    {
     "name": "stdout",
     "output_type": "stream",
     "text": [
      "Defaulting to user installation because normal site-packages is not writeable\n",
      "Requirement already satisfied: torcheval in /usr4/cs640/mscs2024/.local/lib/python3.11/site-packages (0.0.7)\n",
      "Requirement already satisfied: typing-extensions in /share/pkg.8/academic-ml/fall-2024/install/fall-2024-pyt/lib/python3.11/site-packages (from torcheval) (4.12.2)\n",
      "Defaulting to user installation because normal site-packages is not writeable\n",
      "Requirement already satisfied: timm in /usr4/cs640/mscs2024/.local/lib/python3.11/site-packages (1.0.11)\n",
      "Requirement already satisfied: torch in /share/pkg.8/academic-ml/fall-2024/install/fall-2024-pyt/lib/python3.11/site-packages (from timm) (2.4.0)\n",
      "Requirement already satisfied: torchvision in /share/pkg.8/academic-ml/fall-2024/install/fall-2024-pyt/lib/python3.11/site-packages (from timm) (0.19.0)\n",
      "Requirement already satisfied: pyyaml in /share/pkg.8/academic-ml/fall-2024/install/fall-2024-pyt/lib/python3.11/site-packages (from timm) (6.0.1)\n",
      "Requirement already satisfied: huggingface_hub in /share/pkg.8/academic-ml/fall-2024/install/fall-2024-pyt/lib/python3.11/site-packages (from timm) (0.24.2)\n",
      "Requirement already satisfied: safetensors in /share/pkg.8/academic-ml/fall-2024/install/fall-2024-pyt/lib/python3.11/site-packages (from timm) (0.4.3)\n",
      "Requirement already satisfied: filelock in /share/pkg.8/academic-ml/fall-2024/install/fall-2024-pyt/lib/python3.11/site-packages (from huggingface_hub->timm) (3.15.4)\n",
      "Requirement already satisfied: fsspec>=2023.5.0 in /share/pkg.8/academic-ml/fall-2024/install/fall-2024-pyt/lib/python3.11/site-packages (from huggingface_hub->timm) (2024.5.0)\n",
      "Requirement already satisfied: packaging>=20.9 in /share/pkg.8/academic-ml/fall-2024/install/fall-2024-pyt/lib/python3.11/site-packages (from huggingface_hub->timm) (24.1)\n",
      "Requirement already satisfied: requests in /share/pkg.8/academic-ml/fall-2024/install/fall-2024-pyt/lib/python3.11/site-packages (from huggingface_hub->timm) (2.32.3)\n",
      "Requirement already satisfied: tqdm>=4.42.1 in /share/pkg.8/academic-ml/fall-2024/install/fall-2024-pyt/lib/python3.11/site-packages (from huggingface_hub->timm) (4.66.4)\n",
      "Requirement already satisfied: typing-extensions>=3.7.4.3 in /share/pkg.8/academic-ml/fall-2024/install/fall-2024-pyt/lib/python3.11/site-packages (from huggingface_hub->timm) (4.12.2)\n",
      "Requirement already satisfied: sympy in /share/pkg.8/academic-ml/fall-2024/install/fall-2024-pyt/lib/python3.11/site-packages (from torch->timm) (1.13.0)\n",
      "Requirement already satisfied: networkx in /share/pkg.8/academic-ml/fall-2024/install/fall-2024-pyt/lib/python3.11/site-packages (from torch->timm) (3.3)\n",
      "Requirement already satisfied: jinja2 in /share/pkg.8/academic-ml/fall-2024/install/fall-2024-pyt/lib/python3.11/site-packages (from torch->timm) (3.1.4)\n",
      "Requirement already satisfied: numpy in /share/pkg.8/academic-ml/fall-2024/install/fall-2024-pyt/lib/python3.11/site-packages (from torchvision->timm) (1.26.4)\n",
      "Requirement already satisfied: pillow!=8.3.*,>=5.3.0 in /share/pkg.8/academic-ml/fall-2024/install/fall-2024-pyt/lib/python3.11/site-packages (from torchvision->timm) (10.4.0)\n",
      "Requirement already satisfied: MarkupSafe>=2.0 in /share/pkg.8/academic-ml/fall-2024/install/fall-2024-pyt/lib/python3.11/site-packages (from jinja2->torch->timm) (2.1.5)\n",
      "Requirement already satisfied: charset-normalizer<4,>=2 in /share/pkg.8/academic-ml/fall-2024/install/fall-2024-pyt/lib/python3.11/site-packages (from requests->huggingface_hub->timm) (3.3.2)\n",
      "Requirement already satisfied: idna<4,>=2.5 in /share/pkg.8/academic-ml/fall-2024/install/fall-2024-pyt/lib/python3.11/site-packages (from requests->huggingface_hub->timm) (3.7)\n",
      "Requirement already satisfied: urllib3<3,>=1.21.1 in /share/pkg.8/academic-ml/fall-2024/install/fall-2024-pyt/lib/python3.11/site-packages (from requests->huggingface_hub->timm) (2.2.2)\n",
      "Requirement already satisfied: certifi>=2017.4.17 in /share/pkg.8/academic-ml/fall-2024/install/fall-2024-pyt/lib/python3.11/site-packages (from requests->huggingface_hub->timm) (2024.7.4)\n",
      "Requirement already satisfied: mpmath<1.4,>=1.1.0 in /share/pkg.8/academic-ml/fall-2024/install/fall-2024-pyt/lib/python3.11/site-packages (from sympy->torch->timm) (1.3.0)\n",
      "Defaulting to user installation because normal site-packages is not writeable\n",
      "Requirement already satisfied: albumentations in /usr4/cs640/mscs2024/.local/lib/python3.11/site-packages (1.4.21)\n",
      "Requirement already satisfied: numpy>=1.24.4 in /share/pkg.8/academic-ml/fall-2024/install/fall-2024-pyt/lib/python3.11/site-packages (from albumentations) (1.26.4)\n",
      "Requirement already satisfied: scipy>=1.10.0 in /share/pkg.8/academic-ml/fall-2024/install/fall-2024-pyt/lib/python3.11/site-packages (from albumentations) (1.14.0)\n",
      "Requirement already satisfied: PyYAML in /share/pkg.8/academic-ml/fall-2024/install/fall-2024-pyt/lib/python3.11/site-packages (from albumentations) (6.0.1)\n",
      "Requirement already satisfied: pydantic>=2.7.0 in /share/pkg.8/academic-ml/fall-2024/install/fall-2024-pyt/lib/python3.11/site-packages (from albumentations) (2.8.2)\n",
      "Requirement already satisfied: albucore==0.0.20 in /usr4/cs640/mscs2024/.local/lib/python3.11/site-packages (from albumentations) (0.0.20)\n",
      "Requirement already satisfied: eval-type-backport in /usr4/cs640/mscs2024/.local/lib/python3.11/site-packages (from albumentations) (0.2.0)\n",
      "Requirement already satisfied: opencv-python-headless>=4.9.0.80 in /share/pkg.8/academic-ml/fall-2024/install/fall-2024-pyt/lib/python3.11/site-packages (from albumentations) (4.10.0)\n",
      "Requirement already satisfied: stringzilla>=3.10.4 in /usr4/cs640/mscs2024/.local/lib/python3.11/site-packages (from albucore==0.0.20->albumentations) (3.10.10)\n",
      "Requirement already satisfied: simsimd>=5.9.2 in /usr4/cs640/mscs2024/.local/lib/python3.11/site-packages (from albucore==0.0.20->albumentations) (6.2.1)\n",
      "Requirement already satisfied: annotated-types>=0.4.0 in /share/pkg.8/academic-ml/fall-2024/install/fall-2024-pyt/lib/python3.11/site-packages (from pydantic>=2.7.0->albumentations) (0.7.0)\n",
      "Requirement already satisfied: pydantic-core==2.20.1 in /share/pkg.8/academic-ml/fall-2024/install/fall-2024-pyt/lib/python3.11/site-packages (from pydantic>=2.7.0->albumentations) (2.20.1)\n",
      "Requirement already satisfied: typing-extensions>=4.6.1 in /share/pkg.8/academic-ml/fall-2024/install/fall-2024-pyt/lib/python3.11/site-packages (from pydantic>=2.7.0->albumentations) (4.12.2)\n",
      "Defaulting to user installation because normal site-packages is not writeable\n",
      "Requirement already satisfied: kagglehub in /usr4/cs640/mscs2024/.local/lib/python3.11/site-packages (0.3.4)\n",
      "Requirement already satisfied: packaging in /share/pkg.8/academic-ml/fall-2024/install/fall-2024-pyt/lib/python3.11/site-packages (from kagglehub) (24.1)\n",
      "Requirement already satisfied: requests in /share/pkg.8/academic-ml/fall-2024/install/fall-2024-pyt/lib/python3.11/site-packages (from kagglehub) (2.32.3)\n",
      "Requirement already satisfied: tqdm in /share/pkg.8/academic-ml/fall-2024/install/fall-2024-pyt/lib/python3.11/site-packages (from kagglehub) (4.66.4)\n",
      "Requirement already satisfied: charset-normalizer<4,>=2 in /share/pkg.8/academic-ml/fall-2024/install/fall-2024-pyt/lib/python3.11/site-packages (from requests->kagglehub) (3.3.2)\n",
      "Requirement already satisfied: idna<4,>=2.5 in /share/pkg.8/academic-ml/fall-2024/install/fall-2024-pyt/lib/python3.11/site-packages (from requests->kagglehub) (3.7)\n",
      "Requirement already satisfied: urllib3<3,>=1.21.1 in /share/pkg.8/academic-ml/fall-2024/install/fall-2024-pyt/lib/python3.11/site-packages (from requests->kagglehub) (2.2.2)\n",
      "Requirement already satisfied: certifi>=2017.4.17 in /share/pkg.8/academic-ml/fall-2024/install/fall-2024-pyt/lib/python3.11/site-packages (from requests->kagglehub) (2024.7.4)\n"
     ]
    }
   ],
   "source": [
    "!pip install torcheval\n",
    "!pip install timm\n",
    "!pip install albumentations\n",
    "!pip install kagglehub"
   ]
  },
  {
   "cell_type": "code",
   "execution_count": 193,
   "metadata": {
    "papermill": {
     "duration": 9.086974,
     "end_time": "2024-06-29T23:17:46.466572",
     "exception": false,
     "start_time": "2024-06-29T23:17:37.379598",
     "status": "completed"
    },
    "tags": []
   },
   "outputs": [],
   "source": [
    "import os\n",
    "import gc\n",
    "import cv2\n",
    "import math\n",
    "import copy\n",
    "import time\n",
    "import random\n",
    "import glob\n",
    "from matplotlib import pyplot as plt\n",
    "\n",
    "# For data manipulation\n",
    "import numpy as np\n",
    "import pandas as pd\n",
    "\n",
    "# Pytorch Imports\n",
    "import torch\n",
    "import torch.nn as nn\n",
    "import torch.optim as optim\n",
    "import torch.nn.functional as F\n",
    "from torch.optim import lr_scheduler\n",
    "from torch.utils.data import Dataset, DataLoader\n",
    "from torch.cuda import amp\n",
    "import torchvision\n",
    "from torcheval.metrics.functional import binary_auroc\n",
    "\n",
    "# Utils\n",
    "import joblib\n",
    "from tqdm import tqdm\n",
    "from collections import defaultdict\n",
    "\n",
    "# Sklearn Imports\n",
    "from sklearn.preprocessing import LabelEncoder\n",
    "from sklearn.model_selection import StratifiedKFold, StratifiedGroupKFold \n",
    "\n",
    "# For Image Models\n",
    "import timm\n",
    "\n",
    "# Albumentations for augmentations\n",
    "import albumentations as A\n",
    "from albumentations.pytorch import ToTensorV2\n",
    "\n",
    "# For colored terminal text\n",
    "from colorama import Fore, Back, Style\n",
    "b_ = Fore.BLUE\n",
    "sr_ = Style.RESET_ALL\n",
    "\n",
    "import warnings\n",
    "warnings.filterwarnings(\"ignore\")\n",
    "\n",
    "# For descriptive error messages\n",
    "os.environ['CUDA_LAUNCH_BLOCKING'] = \"1\""
   ]
  },
  {
   "cell_type": "code",
   "execution_count": 194,
   "metadata": {},
   "outputs": [
    {
     "name": "stdout",
     "output_type": "stream",
     "text": [
      "Path to model files: /usr4/cs640/mscs2024/.cache/kagglehub/models/timm/tf-efficientnet/pyTorch/tf-efficientnet-b0/1\n"
     ]
    }
   ],
   "source": [
    "import kagglehub\n",
    "\n",
    "# Download latest version\n",
    "path = kagglehub.model_download(\"timm/tf-efficientnet/pyTorch/tf-efficientnet-b0\")\n",
    "\n",
    "print(\"Path to model files:\", path)"
   ]
  },
  {
   "cell_type": "markdown",
   "metadata": {
    "papermill": {
     "duration": 0.011519,
     "end_time": "2024-06-29T23:17:46.48929",
     "exception": false,
     "start_time": "2024-06-29T23:17:46.477771",
     "status": "completed"
    },
    "tags": []
   },
   "source": [
    "# <span><h1 style = \"font-family: garamond; font-size: 40px; font-style: normal; letter-spcaing: 3px; background-color: #f6f5f5; color :#fe346e; border-radius: 100px 100px; text-align:center\">Training Configuration ⚙️</h1></span>"
   ]
  },
  {
   "cell_type": "code",
   "execution_count": 195,
   "metadata": {
    "papermill": {
     "duration": 0.07116,
     "end_time": "2024-06-29T23:17:46.571192",
     "exception": false,
     "start_time": "2024-06-29T23:17:46.500032",
     "status": "completed"
    },
    "tags": []
   },
   "outputs": [
    {
     "name": "stdout",
     "output_type": "stream",
     "text": [
      "Model loaded successfully!\n"
     ]
    }
   ],
   "source": [
    "'''CONFIG = {\n",
    "    \"seed\": 42,\n",
    "    \"epochs\": 50,\n",
    "    \"img_size\": 384,\n",
    " #   \"model_name\": \"tf_efficientnet_b0_ns\",\n",
    "    \"model_name\": \"tf_efficientnet_b0\", \n",
    " #   \"checkpoint_path\" : \"/kaggle/input/tf-efficientnet/pytorch/tf-efficientnet-b0/1/tf_efficientnet_b0_aa-827b6e33.pth\",\n",
    "    \"checkpoint_path\": \"/usr4/cs640/abvo138/.cache/kagglehub/models/timm/tf-efficientnet/pyTorch/tf-efficientnet-b0/1\", \n",
    "    \"train_batch_size\": 32,\n",
    "    \"valid_batch_size\": 64,\n",
    "    \"learning_rate\": 1e-4,\n",
    "    \"scheduler\": 'CosineAnnealingLR',\n",
    "    \"min_lr\": 1e-6,\n",
    "    \"T_max\": 500,\n",
    "    \"weight_decay\": 1e-6,\n",
    "    \"fold\" : 0,\n",
    "    \"n_fold\": 5,\n",
    "    \"n_accumulate\": 1,\n",
    "    \"device\": torch.device(\"cuda:0\" if torch.cuda.is_available() else \"cpu\"),\n",
    "}'''\n",
    "\n",
    "\n",
    "CONFIG = {\n",
    "    \"seed\": 42,\n",
    "    \"epochs\": 50,\n",
    "    \"img_size\": 384,\n",
    "    \"model_name\": \"tf_efficientnet_b0_ns\",\n",
    "    \"checkpoint_path\": \"tf_efficientnet_b0_aa-827b6e33.pth\",\n",
    "    \"train_batch_size\": 32,\n",
    "    \"valid_batch_size\": 64,\n",
    "    \"learning_rate\": 1e-4,\n",
    "    \"scheduler\": 'CosineAnnealingLR',\n",
    "    \"min_lr\": 1e-6,\n",
    "    \"T_max\": 500,\n",
    "    \"weight_decay\": 1e-6,\n",
    "    \"fold\": 0,\n",
    "    \"n_fold\": 5,\n",
    "    \"n_accumulate\": 1,\n",
    "    \"device\": torch.device(\"cuda:0\" if torch.cuda.is_available() else \"cpu\"),\n",
    "}\n",
    "\n",
    "# Load the EfficientNet Model with timm\n",
    "model = timm.create_model(\n",
    "    CONFIG[\"model_name\"],  # Using model name from CONFIG\n",
    "    pretrained=False,      # Do not load the pretrained weights from the internet\n",
    "    checkpoint_path=CONFIG[\"checkpoint_path\"]  # Load weights from the local checkpoint\n",
    ")\n",
    "\n",
    "# Modify the classifier for binary classification\n",
    "num_ftrs = model.classifier.in_features\n",
    "model.classifier = nn.Linear(num_ftrs, 1)  # Output dimension is 1 for binary classification\n",
    "\n",
    "# Set the model to evaluation mode\n",
    "model.eval()\n",
    "\n",
    "# Move the model to the device\n",
    "model.to(CONFIG[\"device\"])\n",
    "\n",
    "print(\"Model loaded successfully!\")"
   ]
  },
  {
   "cell_type": "markdown",
   "metadata": {
    "papermill": {
     "duration": 0.010587,
     "end_time": "2024-06-29T23:17:46.59285",
     "exception": false,
     "start_time": "2024-06-29T23:17:46.582263",
     "status": "completed"
    },
    "tags": []
   },
   "source": [
    "# <span><h1 style = \"font-family: garamond; font-size: 40px; font-style: normal; letter-spcaing: 3px; background-color: #f6f5f5; color :#fe346e; border-radius: 100px 100px; text-align:center\">Set Seed for Reproducibility</h1></span>"
   ]
  },
  {
   "cell_type": "code",
   "execution_count": 196,
   "metadata": {
    "papermill": {
     "duration": 0.021715,
     "end_time": "2024-06-29T23:17:46.625274",
     "exception": false,
     "start_time": "2024-06-29T23:17:46.603559",
     "status": "completed"
    },
    "tags": []
   },
   "outputs": [],
   "source": [
    "def set_seed(seed=42):\n",
    "    '''Sets the seed of the entire notebook so results are the same every time we run.\n",
    "    This is for REPRODUCIBILITY.'''\n",
    "    np.random.seed(seed)\n",
    "    torch.manual_seed(seed)\n",
    "    torch.cuda.manual_seed(seed)\n",
    "    # When running on the CuDNN backend, two further options must be set\n",
    "    torch.backends.cudnn.deterministic = True\n",
    "    torch.backends.cudnn.benchmark = False\n",
    "    # Set a fixed value for the hash seed\n",
    "    os.environ['PYTHONHASHSEED'] = str(seed)\n",
    "    \n",
    "set_seed(CONFIG['seed'])"
   ]
  },
  {
   "cell_type": "code",
   "execution_count": 197,
   "metadata": {
    "papermill": {
     "duration": 0.017083,
     "end_time": "2024-06-29T23:17:46.653209",
     "exception": false,
     "start_time": "2024-06-29T23:17:46.636126",
     "status": "completed"
    },
    "tags": []
   },
   "outputs": [],
   "source": [
    "'''\n",
    "project_dir = os.path.join(os.sep, 'projectnb', 'cs640grp', 'materials', 'ISIC-2024_CS640')\n",
    "df_train = pandas.read_csv(os.path.join(project_dir, \"train_metadata.csv\"))\n",
    "'''\n",
    "\n",
    "ROOT_DIR = os.path.join(os.sep, 'projectnb', 'cs640grp', 'materials', 'ISIC-2024_CS640')\n",
    "TRAIN_DIR = f'{ROOT_DIR}/train_image'\n",
    "TEST_DIR = f'{ROOT_DIR}/test_image'"
   ]
  },
  {
   "cell_type": "code",
   "execution_count": 198,
   "metadata": {
    "papermill": {
     "duration": 0.017155,
     "end_time": "2024-06-29T23:17:46.681165",
     "exception": false,
     "start_time": "2024-06-29T23:17:46.66401",
     "status": "completed"
    },
    "tags": []
   },
   "outputs": [],
   "source": [
    "def get_train_file_path(image_id):\n",
    "    return f\"{TRAIN_DIR}/{image_id}.jpg\"\n",
    "\n",
    "def get_test_file_path(image_id):\n",
    "    return f\"{TEST_DIR}/{image_id}.jpg\""
   ]
  },
  {
   "cell_type": "markdown",
   "metadata": {
    "papermill": {
     "duration": 0.010728,
     "end_time": "2024-06-29T23:17:46.702763",
     "exception": false,
     "start_time": "2024-06-29T23:17:46.692035",
     "status": "completed"
    },
    "tags": []
   },
   "source": [
    "# <h1 style = \"font-family: garamond; font-size: 40px; font-style: normal; letter-spcaing: 3px; background-color: #f6f5f5; color :#fe346e; border-radius: 100px 100px; text-align:center\">Read the Data 📖</h1>"
   ]
  },
  {
   "cell_type": "code",
   "execution_count": 199,
   "metadata": {
    "papermill": {
     "duration": 4.053439,
     "end_time": "2024-06-29T23:17:50.766866",
     "exception": false,
     "start_time": "2024-06-29T23:17:46.713427",
     "status": "completed"
    },
    "tags": []
   },
   "outputs": [],
   "source": [
    "train_images = sorted(glob.glob(f\"{TRAIN_DIR}/*.jpg\"))\n",
    "test_images = sorted(glob.glob(f\"{TEST_DIR}/*.jpg\"))"
   ]
  },
  {
   "cell_type": "code",
   "execution_count": 200,
   "metadata": {},
   "outputs": [
    {
     "data": {
      "text/plain": [
       "Index(['id', 'target', 'age_approx', 'sex', 'anatom_site_general',\n",
       "       'clin_size_long_diam_mm', 'tbp_tile_type', 'tbp_lv_A', 'tbp_lv_Aext',\n",
       "       'tbp_lv_B', 'tbp_lv_Bext', 'tbp_lv_C', 'tbp_lv_Cext', 'tbp_lv_H',\n",
       "       'tbp_lv_Hext', 'tbp_lv_L', 'tbp_lv_Lext', 'tbp_lv_areaMM2',\n",
       "       'tbp_lv_area_perim_ratio', 'tbp_lv_color_std_mean', 'tbp_lv_deltaA',\n",
       "       'tbp_lv_deltaB', 'tbp_lv_deltaL', 'tbp_lv_deltaLB',\n",
       "       'tbp_lv_deltaLBnorm', 'tbp_lv_eccentricity', 'tbp_lv_location',\n",
       "       'tbp_lv_location_simple', 'tbp_lv_minorAxisMM',\n",
       "       'tbp_lv_nevi_confidence', 'tbp_lv_norm_border', 'tbp_lv_norm_color',\n",
       "       'tbp_lv_perimeterMM', 'tbp_lv_radial_color_std_max', 'tbp_lv_stdL',\n",
       "       'tbp_lv_stdLExt', 'tbp_lv_symm_2axis', 'tbp_lv_symm_2axis_angle',\n",
       "       'tbp_lv_x', 'tbp_lv_y', 'tbp_lv_z'],\n",
       "      dtype='object')"
      ]
     },
     "execution_count": 200,
     "metadata": {},
     "output_type": "execute_result"
    }
   ],
   "source": [
    "df = pd.read_csv(f\"{ROOT_DIR}/train_metadata.csv\")\n",
    "\n",
    "df.columns"
   ]
  },
  {
   "cell_type": "code",
   "execution_count": 201,
   "metadata": {
    "papermill": {
     "duration": 7.631613,
     "end_time": "2024-06-29T23:17:58.409773",
     "exception": false,
     "start_time": "2024-06-29T23:17:50.77816",
     "status": "completed"
    },
    "tags": []
   },
   "outputs": [
    {
     "data": {
      "text/html": [
       "<div>\n",
       "<style scoped>\n",
       "    .dataframe tbody tr th:only-of-type {\n",
       "        vertical-align: middle;\n",
       "    }\n",
       "\n",
       "    .dataframe tbody tr th {\n",
       "        vertical-align: top;\n",
       "    }\n",
       "\n",
       "    .dataframe thead th {\n",
       "        text-align: right;\n",
       "    }\n",
       "</style>\n",
       "<table border=\"1\" class=\"dataframe\">\n",
       "  <thead>\n",
       "    <tr style=\"text-align: right;\">\n",
       "      <th></th>\n",
       "      <th>id</th>\n",
       "      <th>target</th>\n",
       "      <th>age_approx</th>\n",
       "      <th>sex</th>\n",
       "      <th>anatom_site_general</th>\n",
       "      <th>clin_size_long_diam_mm</th>\n",
       "      <th>tbp_tile_type</th>\n",
       "      <th>tbp_lv_A</th>\n",
       "      <th>tbp_lv_Aext</th>\n",
       "      <th>tbp_lv_B</th>\n",
       "      <th>...</th>\n",
       "      <th>tbp_lv_perimeterMM</th>\n",
       "      <th>tbp_lv_radial_color_std_max</th>\n",
       "      <th>tbp_lv_stdL</th>\n",
       "      <th>tbp_lv_stdLExt</th>\n",
       "      <th>tbp_lv_symm_2axis</th>\n",
       "      <th>tbp_lv_symm_2axis_angle</th>\n",
       "      <th>tbp_lv_x</th>\n",
       "      <th>tbp_lv_y</th>\n",
       "      <th>tbp_lv_z</th>\n",
       "      <th>file_path</th>\n",
       "    </tr>\n",
       "  </thead>\n",
       "  <tbody>\n",
       "    <tr>\n",
       "      <th>0</th>\n",
       "      <td>459</td>\n",
       "      <td>1</td>\n",
       "      <td>65.0</td>\n",
       "      <td>male</td>\n",
       "      <td>posterior torso</td>\n",
       "      <td>10.82</td>\n",
       "      <td>3D: white</td>\n",
       "      <td>20.871160</td>\n",
       "      <td>16.610670</td>\n",
       "      <td>20.523050</td>\n",
       "      <td>...</td>\n",
       "      <td>28.643210</td>\n",
       "      <td>3.136121</td>\n",
       "      <td>9.403855</td>\n",
       "      <td>2.356120</td>\n",
       "      <td>0.171552</td>\n",
       "      <td>175</td>\n",
       "      <td>-148.532300</td>\n",
       "      <td>1066.751000</td>\n",
       "      <td>121.249200</td>\n",
       "      <td>/projectnb/cs640grp/materials/ISIC-2024_CS640/...</td>\n",
       "    </tr>\n",
       "    <tr>\n",
       "      <th>1</th>\n",
       "      <td>690</td>\n",
       "      <td>1</td>\n",
       "      <td>60.0</td>\n",
       "      <td>male</td>\n",
       "      <td>anterior torso</td>\n",
       "      <td>3.12</td>\n",
       "      <td>3D: XP</td>\n",
       "      <td>31.926363</td>\n",
       "      <td>25.735510</td>\n",
       "      <td>37.727808</td>\n",
       "      <td>...</td>\n",
       "      <td>10.516377</td>\n",
       "      <td>0.915965</td>\n",
       "      <td>1.677692</td>\n",
       "      <td>3.642767</td>\n",
       "      <td>0.598802</td>\n",
       "      <td>110</td>\n",
       "      <td>28.257790</td>\n",
       "      <td>1131.117920</td>\n",
       "      <td>88.584473</td>\n",
       "      <td>/projectnb/cs640grp/materials/ISIC-2024_CS640/...</td>\n",
       "    </tr>\n",
       "    <tr>\n",
       "      <th>2</th>\n",
       "      <td>1118</td>\n",
       "      <td>1</td>\n",
       "      <td>55.0</td>\n",
       "      <td>male</td>\n",
       "      <td>lower extremity</td>\n",
       "      <td>12.66</td>\n",
       "      <td>3D: white</td>\n",
       "      <td>20.391100</td>\n",
       "      <td>14.721510</td>\n",
       "      <td>18.167190</td>\n",
       "      <td>...</td>\n",
       "      <td>56.597460</td>\n",
       "      <td>3.671458</td>\n",
       "      <td>4.827992</td>\n",
       "      <td>4.352363</td>\n",
       "      <td>0.259780</td>\n",
       "      <td>20</td>\n",
       "      <td>167.630600</td>\n",
       "      <td>312.628200</td>\n",
       "      <td>102.853400</td>\n",
       "      <td>/projectnb/cs640grp/materials/ISIC-2024_CS640/...</td>\n",
       "    </tr>\n",
       "    <tr>\n",
       "      <th>3</th>\n",
       "      <td>1655</td>\n",
       "      <td>1</td>\n",
       "      <td>70.0</td>\n",
       "      <td>female</td>\n",
       "      <td>lower extremity</td>\n",
       "      <td>2.19</td>\n",
       "      <td>3D: XP</td>\n",
       "      <td>19.693810</td>\n",
       "      <td>14.603610</td>\n",
       "      <td>31.681380</td>\n",
       "      <td>...</td>\n",
       "      <td>7.369725</td>\n",
       "      <td>1.052949</td>\n",
       "      <td>2.229226</td>\n",
       "      <td>2.184116</td>\n",
       "      <td>0.130435</td>\n",
       "      <td>130</td>\n",
       "      <td>-194.177700</td>\n",
       "      <td>338.241100</td>\n",
       "      <td>29.611270</td>\n",
       "      <td>/projectnb/cs640grp/materials/ISIC-2024_CS640/...</td>\n",
       "    </tr>\n",
       "    <tr>\n",
       "      <th>4</th>\n",
       "      <td>1762</td>\n",
       "      <td>1</td>\n",
       "      <td>80.0</td>\n",
       "      <td>male</td>\n",
       "      <td>anterior torso</td>\n",
       "      <td>5.18</td>\n",
       "      <td>3D: white</td>\n",
       "      <td>14.233970</td>\n",
       "      <td>13.405580</td>\n",
       "      <td>14.309860</td>\n",
       "      <td>...</td>\n",
       "      <td>23.484740</td>\n",
       "      <td>2.690731</td>\n",
       "      <td>4.170507</td>\n",
       "      <td>3.846216</td>\n",
       "      <td>0.471311</td>\n",
       "      <td>95</td>\n",
       "      <td>54.181710</td>\n",
       "      <td>1165.629000</td>\n",
       "      <td>-95.257320</td>\n",
       "      <td>/projectnb/cs640grp/materials/ISIC-2024_CS640/...</td>\n",
       "    </tr>\n",
       "    <tr>\n",
       "      <th>...</th>\n",
       "      <td>...</td>\n",
       "      <td>...</td>\n",
       "      <td>...</td>\n",
       "      <td>...</td>\n",
       "      <td>...</td>\n",
       "      <td>...</td>\n",
       "      <td>...</td>\n",
       "      <td>...</td>\n",
       "      <td>...</td>\n",
       "      <td>...</td>\n",
       "      <td>...</td>\n",
       "      <td>...</td>\n",
       "      <td>...</td>\n",
       "      <td>...</td>\n",
       "      <td>...</td>\n",
       "      <td>...</td>\n",
       "      <td>...</td>\n",
       "      <td>...</td>\n",
       "      <td>...</td>\n",
       "      <td>...</td>\n",
       "      <td>...</td>\n",
       "    </tr>\n",
       "    <tr>\n",
       "      <th>6589</th>\n",
       "      <td>6283</td>\n",
       "      <td>0</td>\n",
       "      <td>55.0</td>\n",
       "      <td>female</td>\n",
       "      <td>head/neck</td>\n",
       "      <td>3.38</td>\n",
       "      <td>3D: XP</td>\n",
       "      <td>26.478243</td>\n",
       "      <td>22.595322</td>\n",
       "      <td>24.804616</td>\n",
       "      <td>...</td>\n",
       "      <td>9.420487</td>\n",
       "      <td>0.319733</td>\n",
       "      <td>1.072940</td>\n",
       "      <td>3.110400</td>\n",
       "      <td>0.441860</td>\n",
       "      <td>75</td>\n",
       "      <td>11.395874</td>\n",
       "      <td>1292.966675</td>\n",
       "      <td>-78.625854</td>\n",
       "      <td>/projectnb/cs640grp/materials/ISIC-2024_CS640/...</td>\n",
       "    </tr>\n",
       "    <tr>\n",
       "      <th>6590</th>\n",
       "      <td>6284</td>\n",
       "      <td>0</td>\n",
       "      <td>60.0</td>\n",
       "      <td>male</td>\n",
       "      <td>anterior torso</td>\n",
       "      <td>3.01</td>\n",
       "      <td>3D: XP</td>\n",
       "      <td>20.181710</td>\n",
       "      <td>16.264490</td>\n",
       "      <td>34.406610</td>\n",
       "      <td>...</td>\n",
       "      <td>8.532092</td>\n",
       "      <td>0.144892</td>\n",
       "      <td>2.274721</td>\n",
       "      <td>1.706717</td>\n",
       "      <td>0.366972</td>\n",
       "      <td>90</td>\n",
       "      <td>163.926900</td>\n",
       "      <td>1489.495000</td>\n",
       "      <td>7.309753</td>\n",
       "      <td>/projectnb/cs640grp/materials/ISIC-2024_CS640/...</td>\n",
       "    </tr>\n",
       "    <tr>\n",
       "      <th>6591</th>\n",
       "      <td>6285</td>\n",
       "      <td>0</td>\n",
       "      <td>65.0</td>\n",
       "      <td>male</td>\n",
       "      <td>upper extremity</td>\n",
       "      <td>4.04</td>\n",
       "      <td>3D: white</td>\n",
       "      <td>25.950790</td>\n",
       "      <td>19.740780</td>\n",
       "      <td>25.738300</td>\n",
       "      <td>...</td>\n",
       "      <td>12.968360</td>\n",
       "      <td>1.388929</td>\n",
       "      <td>3.531413</td>\n",
       "      <td>2.779279</td>\n",
       "      <td>0.291829</td>\n",
       "      <td>10</td>\n",
       "      <td>265.506100</td>\n",
       "      <td>1444.390000</td>\n",
       "      <td>49.615170</td>\n",
       "      <td>/projectnb/cs640grp/materials/ISIC-2024_CS640/...</td>\n",
       "    </tr>\n",
       "    <tr>\n",
       "      <th>6592</th>\n",
       "      <td>6286</td>\n",
       "      <td>0</td>\n",
       "      <td>55.0</td>\n",
       "      <td>female</td>\n",
       "      <td>lower extremity</td>\n",
       "      <td>4.53</td>\n",
       "      <td>3D: XP</td>\n",
       "      <td>17.640935</td>\n",
       "      <td>13.361522</td>\n",
       "      <td>24.988712</td>\n",
       "      <td>...</td>\n",
       "      <td>12.293166</td>\n",
       "      <td>2.321691</td>\n",
       "      <td>2.893916</td>\n",
       "      <td>1.905315</td>\n",
       "      <td>0.240418</td>\n",
       "      <td>155</td>\n",
       "      <td>128.747864</td>\n",
       "      <td>441.536255</td>\n",
       "      <td>37.841492</td>\n",
       "      <td>/projectnb/cs640grp/materials/ISIC-2024_CS640/...</td>\n",
       "    </tr>\n",
       "    <tr>\n",
       "      <th>6593</th>\n",
       "      <td>6287</td>\n",
       "      <td>0</td>\n",
       "      <td>50.0</td>\n",
       "      <td>male</td>\n",
       "      <td>upper extremity</td>\n",
       "      <td>3.60</td>\n",
       "      <td>3D: XP</td>\n",
       "      <td>16.895883</td>\n",
       "      <td>12.177194</td>\n",
       "      <td>25.576725</td>\n",
       "      <td>...</td>\n",
       "      <td>9.888187</td>\n",
       "      <td>0.531491</td>\n",
       "      <td>1.701085</td>\n",
       "      <td>1.918413</td>\n",
       "      <td>0.407895</td>\n",
       "      <td>100</td>\n",
       "      <td>370.256042</td>\n",
       "      <td>1358.921631</td>\n",
       "      <td>85.782166</td>\n",
       "      <td>/projectnb/cs640grp/materials/ISIC-2024_CS640/...</td>\n",
       "    </tr>\n",
       "  </tbody>\n",
       "</table>\n",
       "<p>6594 rows × 42 columns</p>\n",
       "</div>"
      ],
      "text/plain": [
       "        id  target  age_approx     sex anatom_site_general  \\\n",
       "0      459       1        65.0    male     posterior torso   \n",
       "1      690       1        60.0    male      anterior torso   \n",
       "2     1118       1        55.0    male     lower extremity   \n",
       "3     1655       1        70.0  female     lower extremity   \n",
       "4     1762       1        80.0    male      anterior torso   \n",
       "...    ...     ...         ...     ...                 ...   \n",
       "6589  6283       0        55.0  female           head/neck   \n",
       "6590  6284       0        60.0    male      anterior torso   \n",
       "6591  6285       0        65.0    male     upper extremity   \n",
       "6592  6286       0        55.0  female     lower extremity   \n",
       "6593  6287       0        50.0    male     upper extremity   \n",
       "\n",
       "      clin_size_long_diam_mm tbp_tile_type   tbp_lv_A  tbp_lv_Aext   tbp_lv_B  \\\n",
       "0                      10.82     3D: white  20.871160    16.610670  20.523050   \n",
       "1                       3.12        3D: XP  31.926363    25.735510  37.727808   \n",
       "2                      12.66     3D: white  20.391100    14.721510  18.167190   \n",
       "3                       2.19        3D: XP  19.693810    14.603610  31.681380   \n",
       "4                       5.18     3D: white  14.233970    13.405580  14.309860   \n",
       "...                      ...           ...        ...          ...        ...   \n",
       "6589                    3.38        3D: XP  26.478243    22.595322  24.804616   \n",
       "6590                    3.01        3D: XP  20.181710    16.264490  34.406610   \n",
       "6591                    4.04     3D: white  25.950790    19.740780  25.738300   \n",
       "6592                    4.53        3D: XP  17.640935    13.361522  24.988712   \n",
       "6593                    3.60        3D: XP  16.895883    12.177194  25.576725   \n",
       "\n",
       "      ...  tbp_lv_perimeterMM  tbp_lv_radial_color_std_max  tbp_lv_stdL  \\\n",
       "0     ...           28.643210                     3.136121     9.403855   \n",
       "1     ...           10.516377                     0.915965     1.677692   \n",
       "2     ...           56.597460                     3.671458     4.827992   \n",
       "3     ...            7.369725                     1.052949     2.229226   \n",
       "4     ...           23.484740                     2.690731     4.170507   \n",
       "...   ...                 ...                          ...          ...   \n",
       "6589  ...            9.420487                     0.319733     1.072940   \n",
       "6590  ...            8.532092                     0.144892     2.274721   \n",
       "6591  ...           12.968360                     1.388929     3.531413   \n",
       "6592  ...           12.293166                     2.321691     2.893916   \n",
       "6593  ...            9.888187                     0.531491     1.701085   \n",
       "\n",
       "      tbp_lv_stdLExt  tbp_lv_symm_2axis  tbp_lv_symm_2axis_angle    tbp_lv_x  \\\n",
       "0           2.356120           0.171552                      175 -148.532300   \n",
       "1           3.642767           0.598802                      110   28.257790   \n",
       "2           4.352363           0.259780                       20  167.630600   \n",
       "3           2.184116           0.130435                      130 -194.177700   \n",
       "4           3.846216           0.471311                       95   54.181710   \n",
       "...              ...                ...                      ...         ...   \n",
       "6589        3.110400           0.441860                       75   11.395874   \n",
       "6590        1.706717           0.366972                       90  163.926900   \n",
       "6591        2.779279           0.291829                       10  265.506100   \n",
       "6592        1.905315           0.240418                      155  128.747864   \n",
       "6593        1.918413           0.407895                      100  370.256042   \n",
       "\n",
       "         tbp_lv_y    tbp_lv_z  \\\n",
       "0     1066.751000  121.249200   \n",
       "1     1131.117920   88.584473   \n",
       "2      312.628200  102.853400   \n",
       "3      338.241100   29.611270   \n",
       "4     1165.629000  -95.257320   \n",
       "...           ...         ...   \n",
       "6589  1292.966675  -78.625854   \n",
       "6590  1489.495000    7.309753   \n",
       "6591  1444.390000   49.615170   \n",
       "6592   441.536255   37.841492   \n",
       "6593  1358.921631   85.782166   \n",
       "\n",
       "                                              file_path  \n",
       "0     /projectnb/cs640grp/materials/ISIC-2024_CS640/...  \n",
       "1     /projectnb/cs640grp/materials/ISIC-2024_CS640/...  \n",
       "2     /projectnb/cs640grp/materials/ISIC-2024_CS640/...  \n",
       "3     /projectnb/cs640grp/materials/ISIC-2024_CS640/...  \n",
       "4     /projectnb/cs640grp/materials/ISIC-2024_CS640/...  \n",
       "...                                                 ...  \n",
       "6589  /projectnb/cs640grp/materials/ISIC-2024_CS640/...  \n",
       "6590  /projectnb/cs640grp/materials/ISIC-2024_CS640/...  \n",
       "6591  /projectnb/cs640grp/materials/ISIC-2024_CS640/...  \n",
       "6592  /projectnb/cs640grp/materials/ISIC-2024_CS640/...  \n",
       "6593  /projectnb/cs640grp/materials/ISIC-2024_CS640/...  \n",
       "\n",
       "[6594 rows x 42 columns]"
      ]
     },
     "execution_count": 201,
     "metadata": {},
     "output_type": "execute_result"
    }
   ],
   "source": [
    "df = pd.read_csv(f\"{ROOT_DIR}/train_metadata.csv\")\n",
    "\n",
    "# print(\"        df.shape, # of positive cases, # of patients\")\n",
    "# print(\"original>\", df.shape, df.target.sum(), df[\"patient_id\"].unique().shape)\n",
    "\n",
    "df_positive = df[df[\"target\"] == 1].reset_index(drop=True)\n",
    "df_negative = df[df[\"target\"] == 0].reset_index(drop=True)\n",
    "\n",
    "df = pd.concat([df_positive, df_negative.iloc[:df_positive.shape[0]*20, :]])  # positive:negative = 1:20\n",
    "# print(\"filtered>\", df.shape, df.target.sum(), df[\"patient_id\"].unique().shape)\n",
    "df['file_path'] = df['id'].apply(get_train_file_path)\n",
    "df = df[ df[\"file_path\"].isin(train_images) ].reset_index(drop=True)\n",
    "df\n"
   ]
  },
  {
   "cell_type": "code",
   "execution_count": 202,
   "metadata": {
    "papermill": {
     "duration": 0.020088,
     "end_time": "2024-06-29T23:17:58.441777",
     "exception": false,
     "start_time": "2024-06-29T23:17:58.421689",
     "status": "completed"
    },
    "tags": []
   },
   "outputs": [
    {
     "data": {
      "text/plain": [
       "(6594, 314)"
      ]
     },
     "execution_count": 202,
     "metadata": {},
     "output_type": "execute_result"
    }
   ],
   "source": [
    "df.shape[0], df.target.sum()"
   ]
  },
  {
   "cell_type": "code",
   "execution_count": 203,
   "metadata": {
    "papermill": {
     "duration": 0.020234,
     "end_time": "2024-06-29T23:17:58.473737",
     "exception": false,
     "start_time": "2024-06-29T23:17:58.453503",
     "status": "completed"
    },
    "tags": []
   },
   "outputs": [
    {
     "data": {
      "text/plain": [
       "8242"
      ]
     },
     "execution_count": 203,
     "metadata": {},
     "output_type": "execute_result"
    }
   ],
   "source": [
    "CONFIG['T_max'] = df.shape[0] * (CONFIG[\"n_fold\"]-1) * CONFIG['epochs'] // CONFIG['train_batch_size'] // CONFIG[\"n_fold\"]\n",
    "CONFIG['T_max']"
   ]
  },
  {
   "cell_type": "markdown",
   "metadata": {
    "papermill": {
     "duration": 0.011432,
     "end_time": "2024-06-29T23:17:58.497492",
     "exception": false,
     "start_time": "2024-06-29T23:17:58.48606",
     "status": "completed"
    },
    "tags": []
   },
   "source": [
    "# <span><h1 style = \"font-family: garamond; font-size: 40px; font-style: normal; letter-spcaing: 3px; background-color: #f6f5f5; color :#fe346e; border-radius: 100px 100px; text-align:center\">Create Folds</h1></span>"
   ]
  },
  {
   "cell_type": "code",
   "execution_count": 204,
   "metadata": {
    "papermill": {
     "duration": 0.466594,
     "end_time": "2024-06-29T23:17:58.975943",
     "exception": false,
     "start_time": "2024-06-29T23:17:58.509349",
     "status": "completed"
    },
    "tags": []
   },
   "outputs": [],
   "source": [
    "'''\n",
    "sgkf = StratifiedGroupKFold(n_splits=CONFIG['n_fold'])\n",
    "for fold, ( _, val_) in enumerate(sgkf.split(df, df.target,df.patient_id)):\n",
    "      df.loc[val_ , \"kfold\"] = int(fold)\n",
    "'''\n",
    "\n",
    "sgkf = StratifiedKFold(n_splits=CONFIG['n_fold'])\n",
    "for fold, ( _, val_) in enumerate(sgkf.split(df, df.target)):\n",
    "      df.loc[val_ , \"kfold\"] = int(fold)"
   ]
  },
  {
   "cell_type": "markdown",
   "metadata": {
    "papermill": {
     "duration": 0.011734,
     "end_time": "2024-06-29T23:17:58.999956",
     "exception": false,
     "start_time": "2024-06-29T23:17:58.988222",
     "status": "completed"
    },
    "tags": []
   },
   "source": [
    "# <span><h1 style = \"font-family: garamond; font-size: 40px; font-style: normal; letter-spcaing: 3px; background-color: #f6f5f5; color :#fe346e; border-radius: 100px 100px; text-align:center\">Dataset Class</h1></span>"
   ]
  },
  {
   "cell_type": "code",
   "execution_count": 205,
   "metadata": {
    "papermill": {
     "duration": 0.027666,
     "end_time": "2024-06-29T23:17:59.039604",
     "exception": false,
     "start_time": "2024-06-29T23:17:59.011938",
     "status": "completed"
    },
    "tags": []
   },
   "outputs": [],
   "source": [
    "class ISICDataset_for_Train(Dataset):\n",
    "    def __init__(self, df, transforms=None):\n",
    "        self.df_positive = df[df[\"target\"] == 1].reset_index()\n",
    "        self.df_negative = df[df[\"target\"] == 0].reset_index()\n",
    "        self.file_names_positive = self.df_positive['file_path'].values\n",
    "        self.file_names_negative = self.df_negative['file_path'].values\n",
    "        self.targets_positive = self.df_positive['target'].values\n",
    "        self.targets_negative = self.df_negative['target'].values\n",
    "        self.transforms = transforms\n",
    "        \n",
    "    def __len__(self):\n",
    "        return len(self.df_positive) * 2\n",
    "    \n",
    "    def __getitem__(self, index):\n",
    "        if random.random() >= 0.5:\n",
    "            df = self.df_positive\n",
    "            file_names = self.file_names_positive\n",
    "            targets = self.targets_positive\n",
    "        else:\n",
    "            df = self.df_negative\n",
    "            file_names = self.file_names_negative\n",
    "            targets = self.targets_negative\n",
    "        index = index % df.shape[0]\n",
    "        \n",
    "        img_path = file_names[index]\n",
    "        img = cv2.imread(img_path)\n",
    "        img = cv2.cvtColor(img, cv2.COLOR_BGR2RGB)\n",
    "        target = targets[index]\n",
    "        \n",
    "        if self.transforms:\n",
    "            img = self.transforms(image=img)[\"image\"]\n",
    "            \n",
    "        return {\n",
    "            'image': img,\n",
    "            'target': target\n",
    "        }\n",
    "    \n",
    "class ISICDataset(Dataset):\n",
    "    def __init__(self, df, transforms=None):\n",
    "        self.df = df\n",
    "        self.file_names = df['file_path'].values\n",
    "        self.targets = df['target'].values\n",
    "        self.transforms = transforms\n",
    "        \n",
    "    def __len__(self):\n",
    "        return len(self.df)\n",
    "    \n",
    "    def __getitem__(self, index):\n",
    "        img_path = self.file_names[index]\n",
    "        img = cv2.imread(img_path)\n",
    "        img = cv2.cvtColor(img, cv2.COLOR_BGR2RGB)\n",
    "        target = self.targets[index]\n",
    "        \n",
    "        if self.transforms:\n",
    "            img = self.transforms(image=img)[\"image\"]\n",
    "            \n",
    "        return {\n",
    "            'image': img,\n",
    "            'target': target\n",
    "        }"
   ]
  },
  {
   "cell_type": "markdown",
   "metadata": {
    "papermill": {
     "duration": 0.011484,
     "end_time": "2024-06-29T23:17:59.062869",
     "exception": false,
     "start_time": "2024-06-29T23:17:59.051385",
     "status": "completed"
    },
    "tags": []
   },
   "source": [
    "# <span><h1 style = \"font-family: garamond; font-size: 40px; font-style: normal; letter-spcaing: 3px; background-color: #f6f5f5; color :#fe346e; border-radius: 100px 100px; text-align:center\">Augmentations</h1></span>"
   ]
  },
  {
   "cell_type": "code",
   "execution_count": 206,
   "metadata": {
    "papermill": {
     "duration": 0.023138,
     "end_time": "2024-06-29T23:17:59.09779",
     "exception": false,
     "start_time": "2024-06-29T23:17:59.074652",
     "status": "completed"
    },
    "tags": []
   },
   "outputs": [],
   "source": [
    "data_transforms = {\n",
    "    \"train\": A.Compose([\n",
    "        A.Resize(CONFIG['img_size'], CONFIG['img_size']),\n",
    "        A.RandomRotate90(p=0.5),\n",
    "        A.Flip(p=0.5),\n",
    "        A.Downscale(p=0.25),\n",
    "        A.ShiftScaleRotate(shift_limit=0.1, \n",
    "                           scale_limit=0.15, \n",
    "                           rotate_limit=60, \n",
    "                           p=0.5),\n",
    "        A.HueSaturationValue(\n",
    "                hue_shift_limit=0.2, \n",
    "                sat_shift_limit=0.2, \n",
    "                val_shift_limit=0.2, \n",
    "                p=0.5\n",
    "            ),\n",
    "        A.RandomBrightnessContrast(\n",
    "                brightness_limit=(-0.1,0.1), \n",
    "                contrast_limit=(-0.1, 0.1), \n",
    "                p=0.5\n",
    "            ),\n",
    "        A.Normalize(\n",
    "                mean=[0.485, 0.456, 0.406], \n",
    "                std=[0.229, 0.224, 0.225], \n",
    "                max_pixel_value=255.0, \n",
    "                p=1.0\n",
    "            ),\n",
    "        ToTensorV2()], p=1.),\n",
    "    \n",
    "    \"valid\": A.Compose([\n",
    "        A.Resize(CONFIG['img_size'], CONFIG['img_size']),\n",
    "        A.Normalize(\n",
    "                mean=[0.485, 0.456, 0.406], \n",
    "                std=[0.229, 0.224, 0.225], \n",
    "                max_pixel_value=255.0, \n",
    "                p=1.0\n",
    "            ),\n",
    "        ToTensorV2()], p=1.)\n",
    "}"
   ]
  },
  {
   "cell_type": "markdown",
   "metadata": {
    "papermill": {
     "duration": 0.01177,
     "end_time": "2024-06-29T23:17:59.121504",
     "exception": false,
     "start_time": "2024-06-29T23:17:59.109734",
     "status": "completed"
    },
    "tags": []
   },
   "source": [
    "# <span><h1 style = \"font-family: garamond; font-size: 40px; font-style: normal; letter-spcaing: 3px; background-color: #f6f5f5; color :#fe346e; border-radius: 100px 100px; text-align:center\">GeM Pooling</h1></span>"
   ]
  },
  {
   "cell_type": "code",
   "execution_count": 207,
   "metadata": {
    "papermill": {
     "duration": 0.02223,
     "end_time": "2024-06-29T23:17:59.155728",
     "exception": false,
     "start_time": "2024-06-29T23:17:59.133498",
     "status": "completed"
    },
    "tags": []
   },
   "outputs": [],
   "source": [
    "class GeM(nn.Module):\n",
    "    def __init__(self, p=3, eps=1e-6):\n",
    "        super(GeM, self).__init__()\n",
    "        self.p = nn.Parameter(torch.ones(1)*p)\n",
    "        self.eps = eps\n",
    "\n",
    "    def forward(self, x):\n",
    "        return self.gem(x, p=self.p, eps=self.eps)\n",
    "        \n",
    "    def gem(self, x, p=3, eps=1e-6):\n",
    "        return F.avg_pool2d(x.clamp(min=eps).pow(p), (x.size(-2), x.size(-1))).pow(1./p)\n",
    "        \n",
    "    def __repr__(self):\n",
    "        return self.__class__.__name__ + \\\n",
    "                '(' + 'p=' + '{:.4f}'.format(self.p.data.tolist()[0]) + \\\n",
    "                ', ' + 'eps=' + str(self.eps) + ')'"
   ]
  },
  {
   "cell_type": "markdown",
   "metadata": {
    "papermill": {
     "duration": 0.011546,
     "end_time": "2024-06-29T23:17:59.179102",
     "exception": false,
     "start_time": "2024-06-29T23:17:59.167556",
     "status": "completed"
    },
    "tags": []
   },
   "source": [
    "# <span><h1 style = \"font-family: garamond; font-size: 40px; font-style: normal; letter-spcaing: 3px; background-color: #f6f5f5; color :#fe346e; border-radius: 100px 100px; text-align:center\">Create Model</h1></span>"
   ]
  },
  {
   "cell_type": "code",
   "execution_count": 208,
   "metadata": {
    "papermill": {
     "duration": 1.183958,
     "end_time": "2024-06-29T23:18:00.375162",
     "exception": false,
     "start_time": "2024-06-29T23:17:59.191204",
     "status": "completed"
    },
    "tags": []
   },
   "outputs": [],
   "source": [
    "class ISICModel(nn.Module):\n",
    "    def __init__(self, model_name, num_classes=1, pretrained=True, checkpoint_path=None):\n",
    "        super(ISICModel, self).__init__()\n",
    "        self.model = timm.create_model(model_name, pretrained=pretrained, checkpoint_path=checkpoint_path)\n",
    "\n",
    "        in_features = self.model.classifier.in_features\n",
    "        self.model.classifier = nn.Identity()\n",
    "        self.model.global_pool = nn.Identity()\n",
    "        self.pooling = GeM()\n",
    "        self.linear = nn.Linear(in_features, num_classes)\n",
    "        self.sigmoid = nn.Sigmoid()\n",
    "\n",
    "    def forward(self, images):\n",
    "        features = self.model(images)\n",
    "        pooled_features = self.pooling(features).flatten(1)\n",
    "        output = self.sigmoid(self.linear(pooled_features))\n",
    "        return output\n",
    "\n",
    "    \n",
    "model = ISICModel(CONFIG['model_name'], checkpoint_path=CONFIG['checkpoint_path'])\n",
    "model.to(CONFIG['device']);"
   ]
  },
  {
   "cell_type": "markdown",
   "metadata": {
    "papermill": {
     "duration": 0.012134,
     "end_time": "2024-06-29T23:18:00.400146",
     "exception": false,
     "start_time": "2024-06-29T23:18:00.388012",
     "status": "completed"
    },
    "tags": []
   },
   "source": [
    "# <span><h1 style = \"font-family: garamond; font-size: 40px; font-style: normal; letter-spcaing: 3px; background-color: #f6f5f5; color :#fe346e; border-radius: 100px 100px; text-align:center\">Loss Function</h1></span>"
   ]
  },
  {
   "cell_type": "code",
   "execution_count": 209,
   "metadata": {
    "papermill": {
     "duration": 0.020023,
     "end_time": "2024-06-29T23:18:00.432262",
     "exception": false,
     "start_time": "2024-06-29T23:18:00.412239",
     "status": "completed"
    },
    "tags": []
   },
   "outputs": [],
   "source": [
    "def criterion(outputs, targets):\n",
    "    return nn.BCEWithLogitsLoss()(outputs, targets)"
   ]
  },
  {
   "cell_type": "markdown",
   "metadata": {
    "papermill": {
     "duration": 0.011944,
     "end_time": "2024-06-29T23:18:00.456944",
     "exception": false,
     "start_time": "2024-06-29T23:18:00.445",
     "status": "completed"
    },
    "tags": []
   },
   "source": [
    "# <span><h1 style = \"font-family: garamond; font-size: 40px; font-style: normal; letter-spcaing: 3px; background-color: #f6f5f5; color :#fe346e; border-radius: 100px 100px; text-align:center\">Training Function</h1></span>"
   ]
  },
  {
   "cell_type": "code",
   "execution_count": 210,
   "metadata": {
    "papermill": {
     "duration": 0.024329,
     "end_time": "2024-06-29T23:18:00.493233",
     "exception": false,
     "start_time": "2024-06-29T23:18:00.468904",
     "status": "completed"
    },
    "tags": []
   },
   "outputs": [],
   "source": [
    "def train_one_epoch(model, optimizer, scheduler, dataloader, device, epoch):\n",
    "    model.train()\n",
    "    \n",
    "    dataset_size = 0\n",
    "    running_loss = 0.0\n",
    "    running_auroc  = 0.0\n",
    "    \n",
    "    bar = tqdm(enumerate(dataloader), total=len(dataloader))\n",
    "    for step, data in bar:\n",
    "        images = data['image'].to(device, dtype=torch.float)\n",
    "        targets = data['target'].to(device, dtype=torch.float)\n",
    "        \n",
    "        batch_size = images.size(0)\n",
    "        \n",
    "        outputs = model(images).squeeze()\n",
    "        loss = criterion(outputs, targets)\n",
    "        loss = loss / CONFIG['n_accumulate']\n",
    "            \n",
    "        loss.backward()\n",
    "    \n",
    "        if (step + 1) % CONFIG['n_accumulate'] == 0:\n",
    "            optimizer.step()\n",
    "\n",
    "            # zero the parameter gradients\n",
    "            optimizer.zero_grad()\n",
    "\n",
    "            if scheduler is not None:\n",
    "                scheduler.step()\n",
    "                \n",
    "        auroc = binary_auroc(input=outputs.squeeze(), target=targets).item()\n",
    "        \n",
    "        running_loss += (loss.item() * batch_size)\n",
    "        running_auroc  += (auroc * batch_size)\n",
    "        dataset_size += batch_size\n",
    "        \n",
    "        epoch_loss = running_loss / dataset_size\n",
    "        epoch_auroc = running_auroc / dataset_size\n",
    "        \n",
    "        bar.set_postfix(Epoch=epoch, Train_Loss=epoch_loss, Train_Auroc=epoch_auroc,\n",
    "                        LR=optimizer.param_groups[0]['lr'])\n",
    "    gc.collect()\n",
    "    \n",
    "    return epoch_loss, epoch_auroc"
   ]
  },
  {
   "cell_type": "markdown",
   "metadata": {
    "papermill": {
     "duration": 0.011634,
     "end_time": "2024-06-29T23:18:00.516892",
     "exception": false,
     "start_time": "2024-06-29T23:18:00.505258",
     "status": "completed"
    },
    "tags": []
   },
   "source": [
    "# <span><h1 style = \"font-family: garamond; font-size: 40px; font-style: normal; letter-spcaing: 3px; background-color: #f6f5f5; color :#fe346e; border-radius: 100px 100px; text-align:center\">Validation Function</h1></span>"
   ]
  },
  {
   "cell_type": "code",
   "execution_count": 211,
   "metadata": {
    "papermill": {
     "duration": 0.02315,
     "end_time": "2024-06-29T23:18:00.551972",
     "exception": false,
     "start_time": "2024-06-29T23:18:00.528822",
     "status": "completed"
    },
    "tags": []
   },
   "outputs": [],
   "source": [
    "@torch.inference_mode()\n",
    "def valid_one_epoch(model, dataloader, device, epoch):\n",
    "    model.eval()\n",
    "    \n",
    "    dataset_size = 0\n",
    "    running_loss = 0.0\n",
    "    running_auroc = 0.0\n",
    "    \n",
    "    bar = tqdm(enumerate(dataloader), total=len(dataloader))\n",
    "    for step, data in bar:        \n",
    "        images = data['image'].to(device, dtype=torch.float)\n",
    "        targets = data['target'].to(device, dtype=torch.float)\n",
    "        \n",
    "        batch_size = images.size(0)\n",
    "\n",
    "        outputs = model(images).squeeze()\n",
    "        loss = criterion(outputs, targets)\n",
    "\n",
    "        auroc = binary_auroc(input=outputs.squeeze(), target=targets).item()\n",
    "        running_loss += (loss.item() * batch_size)\n",
    "        running_auroc  += (auroc * batch_size)\n",
    "        dataset_size += batch_size\n",
    "        \n",
    "        epoch_loss = running_loss / dataset_size\n",
    "        epoch_auroc = running_auroc / dataset_size\n",
    "        \n",
    "        bar.set_postfix(Epoch=epoch, Valid_Loss=epoch_loss, Valid_Auroc=epoch_auroc,\n",
    "                        LR=optimizer.param_groups[0]['lr'])   \n",
    "    \n",
    "    gc.collect()\n",
    "    \n",
    "    return epoch_loss, epoch_auroc"
   ]
  },
  {
   "cell_type": "markdown",
   "metadata": {
    "papermill": {
     "duration": 0.011798,
     "end_time": "2024-06-29T23:18:00.575765",
     "exception": false,
     "start_time": "2024-06-29T23:18:00.563967",
     "status": "completed"
    },
    "tags": []
   },
   "source": [
    "# <span><h1 style = \"font-family: garamond; font-size: 40px; font-style: normal; letter-spcaing: 3px; background-color: #f6f5f5; color :#fe346e; border-radius: 100px 100px; text-align:center\">Run Training</h1></span>"
   ]
  },
  {
   "cell_type": "code",
   "execution_count": 212,
   "metadata": {
    "papermill": {
     "duration": 0.026227,
     "end_time": "2024-06-29T23:18:00.614057",
     "exception": false,
     "start_time": "2024-06-29T23:18:00.58783",
     "status": "completed"
    },
    "tags": []
   },
   "outputs": [],
   "source": [
    "def run_training(model, optimizer, scheduler, device, num_epochs):\n",
    "    if torch.cuda.is_available():\n",
    "        print(\"[INFO] Using GPU: {}\\n\".format(torch.cuda.get_device_name()))\n",
    "    \n",
    "    start = time.time()\n",
    "    best_model_wts = copy.deepcopy(model.state_dict())\n",
    "    best_epoch_auroc = -np.inf\n",
    "    history = defaultdict(list)\n",
    "    \n",
    "    for epoch in range(1, num_epochs + 1): \n",
    "        gc.collect()\n",
    "        train_epoch_loss, train_epoch_auroc = train_one_epoch(model, optimizer, scheduler, \n",
    "                                           dataloader=train_loader, \n",
    "                                           device=CONFIG['device'], epoch=epoch)\n",
    "        \n",
    "        val_epoch_loss, val_epoch_auroc = valid_one_epoch(model, valid_loader, device=CONFIG['device'], \n",
    "                                         epoch=epoch)\n",
    "    \n",
    "        history['Train Loss'].append(train_epoch_loss)\n",
    "        history['Valid Loss'].append(val_epoch_loss)\n",
    "        history['Train AUROC'].append(train_epoch_auroc)\n",
    "        history['Valid AUROC'].append(val_epoch_auroc)\n",
    "        history['lr'].append( scheduler.get_lr()[0] )\n",
    "        \n",
    "        # deep copy the model\n",
    "        if best_epoch_auroc <= val_epoch_auroc:\n",
    "            print(f\"{b_}Validation AUROC Improved ({best_epoch_auroc} ---> {val_epoch_auroc})\")\n",
    "            best_epoch_auroc = val_epoch_auroc\n",
    "            best_model_wts = copy.deepcopy(model.state_dict())\n",
    "            PATH = \"AUROC{:.4f}_Loss{:.4f}_epoch{:.0f}.bin\".format(val_epoch_auroc, val_epoch_loss, epoch)\n",
    "            torch.save(model.state_dict(), PATH)\n",
    "            # Save a model file from the current directory\n",
    "            print(f\"Model Saved{sr_}\")\n",
    "            \n",
    "        print()\n",
    "    \n",
    "    end = time.time()\n",
    "    time_elapsed = end - start\n",
    "    print('Training complete in {:.0f}h {:.0f}m {:.0f}s'.format(\n",
    "        time_elapsed // 3600, (time_elapsed % 3600) // 60, (time_elapsed % 3600) % 60))\n",
    "    print(\"Best AUROC: {:.4f}\".format(best_epoch_auroc))\n",
    "    \n",
    "    # load best model weights\n",
    "    model.load_state_dict(best_model_wts)\n",
    "    \n",
    "    return model, history"
   ]
  },
  {
   "cell_type": "code",
   "execution_count": 213,
   "metadata": {
    "papermill": {
     "duration": 0.020426,
     "end_time": "2024-06-29T23:18:00.646386",
     "exception": false,
     "start_time": "2024-06-29T23:18:00.62596",
     "status": "completed"
    },
    "tags": []
   },
   "outputs": [],
   "source": [
    "def fetch_scheduler(optimizer):\n",
    "    if CONFIG['scheduler'] == 'CosineAnnealingLR':\n",
    "        scheduler = lr_scheduler.CosineAnnealingLR(optimizer,T_max=CONFIG['T_max'], \n",
    "                                                   eta_min=CONFIG['min_lr'])\n",
    "    elif CONFIG['scheduler'] == 'CosineAnnealingWarmRestarts':\n",
    "        scheduler = lr_scheduler.CosineAnnealingWarmRestarts(optimizer,T_0=CONFIG['T_0'], \n",
    "                                                             eta_min=CONFIG['min_lr'])\n",
    "    elif CONFIG['scheduler'] == None:\n",
    "        return None\n",
    "        \n",
    "    return scheduler"
   ]
  },
  {
   "cell_type": "code",
   "execution_count": 214,
   "metadata": {
    "papermill": {
     "duration": 0.02047,
     "end_time": "2024-06-29T23:18:00.678761",
     "exception": false,
     "start_time": "2024-06-29T23:18:00.658291",
     "status": "completed"
    },
    "tags": []
   },
   "outputs": [],
   "source": [
    "def prepare_loaders(df, fold):\n",
    "    df_train = df[df.kfold != fold].reset_index(drop=True)\n",
    "    df_valid = df[df.kfold == fold].reset_index(drop=True)\n",
    "    \n",
    "    train_dataset = ISICDataset_for_Train(df_train, transforms=data_transforms[\"train\"])\n",
    "    valid_dataset = ISICDataset(df_valid, transforms=data_transforms[\"valid\"])\n",
    "\n",
    "    train_loader = DataLoader(train_dataset, batch_size=CONFIG['train_batch_size'], \n",
    "                              num_workers=2, shuffle=True, pin_memory=True, drop_last=True)\n",
    "    valid_loader = DataLoader(valid_dataset, batch_size=CONFIG['valid_batch_size'], \n",
    "                              num_workers=2, shuffle=False, pin_memory=True)\n",
    "    \n",
    "    return train_loader, valid_loader"
   ]
  },
  {
   "cell_type": "markdown",
   "metadata": {
    "papermill": {
     "duration": 0.011803,
     "end_time": "2024-06-29T23:18:00.702461",
     "exception": false,
     "start_time": "2024-06-29T23:18:00.690658",
     "status": "completed"
    },
    "tags": []
   },
   "source": [
    "<span style=\"color: #000508; font-family: Segoe UI; font-size: 1.5em; font-weight: 300;\">Prepare Dataloaders</span>"
   ]
  },
  {
   "cell_type": "code",
   "execution_count": 215,
   "metadata": {
    "papermill": {
     "duration": 0.033503,
     "end_time": "2024-06-29T23:18:00.747996",
     "exception": false,
     "start_time": "2024-06-29T23:18:00.714493",
     "status": "completed"
    },
    "tags": []
   },
   "outputs": [],
   "source": [
    "train_loader, valid_loader = prepare_loaders(df, fold=CONFIG[\"fold\"])"
   ]
  },
  {
   "cell_type": "markdown",
   "metadata": {
    "papermill": {
     "duration": 0.012164,
     "end_time": "2024-06-29T23:18:00.772504",
     "exception": false,
     "start_time": "2024-06-29T23:18:00.76034",
     "status": "completed"
    },
    "tags": []
   },
   "source": [
    "<span style=\"color: #000508; font-family: Segoe UI; font-size: 1.5em; font-weight: 300;\">Define Optimizer and Scheduler</span>"
   ]
  },
  {
   "cell_type": "code",
   "execution_count": 216,
   "metadata": {
    "papermill": {
     "duration": 0.021007,
     "end_time": "2024-06-29T23:18:00.805494",
     "exception": false,
     "start_time": "2024-06-29T23:18:00.784487",
     "status": "completed"
    },
    "tags": []
   },
   "outputs": [],
   "source": [
    "optimizer = optim.Adam(model.parameters(), lr=CONFIG['learning_rate'], \n",
    "                       weight_decay=CONFIG['weight_decay'])\n",
    "scheduler = fetch_scheduler(optimizer)"
   ]
  },
  {
   "cell_type": "markdown",
   "metadata": {
    "papermill": {
     "duration": 0.011766,
     "end_time": "2024-06-29T23:18:00.872059",
     "exception": false,
     "start_time": "2024-06-29T23:18:00.860293",
     "status": "completed"
    },
    "tags": []
   },
   "source": [
    "<span style=\"color: #000508; font-family: Segoe UI; font-size: 1.5em; font-weight: 300;\">Start Training</span>"
   ]
  },
  {
   "cell_type": "code",
   "execution_count": 217,
   "metadata": {
    "papermill": {
     "duration": 745.635338,
     "end_time": "2024-06-29T23:30:26.519348",
     "exception": false,
     "start_time": "2024-06-29T23:18:00.88401",
     "status": "completed"
    },
    "tags": []
   },
   "outputs": [
    {
     "name": "stdout",
     "output_type": "stream",
     "text": [
      "[INFO] Using GPU: NVIDIA L40S\n",
      "\n"
     ]
    },
    {
     "name": "stderr",
     "output_type": "stream",
     "text": [
      "100%|██████████| 15/15 [00:02<00:00,  7.24it/s, Epoch=1, LR=0.0001, Train_Auroc=0.627, Train_Loss=0.699]\n",
      "100%|██████████| 21/21 [00:01<00:00, 12.23it/s, Epoch=1, LR=0.0001, Valid_Auroc=0.497, Valid_Loss=0.781]\n"
     ]
    },
    {
     "name": "stdout",
     "output_type": "stream",
     "text": [
      "\u001b[34mValidation AUROC Improved (-inf ---> 0.49653417090869706)\n",
      "Model Saved\u001b[0m\n",
      "\n"
     ]
    },
    {
     "name": "stderr",
     "output_type": "stream",
     "text": [
      "100%|██████████| 15/15 [00:01<00:00,  7.60it/s, Epoch=2, LR=0.0001, Train_Auroc=0.769, Train_Loss=0.675]\n",
      "100%|██████████| 21/21 [00:01<00:00, 12.38it/s, Epoch=2, LR=0.0001, Valid_Auroc=0.496, Valid_Loss=0.766]\n"
     ]
    },
    {
     "name": "stdout",
     "output_type": "stream",
     "text": [
      "\n"
     ]
    },
    {
     "name": "stderr",
     "output_type": "stream",
     "text": [
      "100%|██████████| 15/15 [00:01<00:00,  7.59it/s, Epoch=3, LR=0.0001, Train_Auroc=0.797, Train_Loss=0.645]\n",
      "100%|██████████| 21/21 [00:01<00:00, 12.30it/s, Epoch=3, LR=0.0001, Valid_Auroc=0.507, Valid_Loss=0.763]\n"
     ]
    },
    {
     "name": "stdout",
     "output_type": "stream",
     "text": [
      "\u001b[34mValidation AUROC Improved (0.49653417090869706 ---> 0.5073167503038617)\n",
      "Model Saved\u001b[0m\n",
      "\n"
     ]
    },
    {
     "name": "stderr",
     "output_type": "stream",
     "text": [
      "100%|██████████| 15/15 [00:01<00:00,  7.54it/s, Epoch=4, LR=0.0001, Train_Auroc=0.858, Train_Loss=0.633]\n",
      "100%|██████████| 21/21 [00:01<00:00, 12.19it/s, Epoch=4, LR=0.0001, Valid_Auroc=0.513, Valid_Loss=0.773]\n"
     ]
    },
    {
     "name": "stdout",
     "output_type": "stream",
     "text": [
      "\u001b[34mValidation AUROC Improved (0.5073167503038617 ---> 0.513478224243956)\n",
      "Model Saved\u001b[0m\n",
      "\n"
     ]
    },
    {
     "name": "stderr",
     "output_type": "stream",
     "text": [
      "100%|██████████| 15/15 [00:01<00:00,  7.55it/s, Epoch=5, LR=0.0001, Train_Auroc=0.866, Train_Loss=0.613]\n",
      "100%|██████████| 21/21 [00:01<00:00, 12.17it/s, Epoch=5, LR=0.0001, Valid_Auroc=0.52, Valid_Loss=0.762] \n"
     ]
    },
    {
     "name": "stdout",
     "output_type": "stream",
     "text": [
      "\u001b[34mValidation AUROC Improved (0.513478224243956 ---> 0.51963969818405)\n",
      "Model Saved\u001b[0m\n",
      "\n"
     ]
    },
    {
     "name": "stderr",
     "output_type": "stream",
     "text": [
      "100%|██████████| 15/15 [00:01<00:00,  7.57it/s, Epoch=6, LR=0.0001, Train_Auroc=0.889, Train_Loss=0.591]\n",
      "100%|██████████| 21/21 [00:01<00:00, 12.08it/s, Epoch=6, LR=0.0001, Valid_Auroc=0.521, Valid_Loss=0.775]\n"
     ]
    },
    {
     "name": "stdout",
     "output_type": "stream",
     "text": [
      "\u001b[34mValidation AUROC Improved (0.51963969818405 ---> 0.5211800666690735)\n",
      "Model Saved\u001b[0m\n",
      "\n"
     ]
    },
    {
     "name": "stderr",
     "output_type": "stream",
     "text": [
      "100%|██████████| 15/15 [00:01<00:00,  7.55it/s, Epoch=7, LR=0.0001, Train_Auroc=0.899, Train_Loss=0.596]\n",
      "100%|██████████| 21/21 [00:01<00:00, 12.31it/s, Epoch=7, LR=0.0001, Valid_Auroc=0.524, Valid_Loss=0.786]\n"
     ]
    },
    {
     "name": "stdout",
     "output_type": "stream",
     "text": [
      "\u001b[34mValidation AUROC Improved (0.5211800666690735 ---> 0.5242608036391205)\n",
      "Model Saved\u001b[0m\n",
      "\n"
     ]
    },
    {
     "name": "stderr",
     "output_type": "stream",
     "text": [
      "100%|██████████| 15/15 [00:01<00:00,  7.55it/s, Epoch=8, LR=9.99e-5, Train_Auroc=0.938, Train_Loss=0.591]\n",
      "100%|██████████| 21/21 [00:01<00:00, 12.43it/s, Epoch=8, LR=9.99e-5, Valid_Auroc=0.524, Valid_Loss=0.734]\n"
     ]
    },
    {
     "name": "stdout",
     "output_type": "stream",
     "text": [
      "\u001b[34mValidation AUROC Improved (0.5242608036391205 ---> 0.5242608036391205)\n",
      "Model Saved\u001b[0m\n",
      "\n"
     ]
    },
    {
     "name": "stderr",
     "output_type": "stream",
     "text": [
      "100%|██████████| 15/15 [00:01<00:00,  7.61it/s, Epoch=9, LR=9.99e-5, Train_Auroc=0.924, Train_Loss=0.594]\n",
      "100%|██████████| 21/21 [00:01<00:00, 12.25it/s, Epoch=9, LR=9.99e-5, Valid_Auroc=0.524, Valid_Loss=0.745]\n"
     ]
    },
    {
     "name": "stdout",
     "output_type": "stream",
     "text": [
      "\u001b[34mValidation AUROC Improved (0.5242608036391205 ---> 0.5242608036391205)\n",
      "Model Saved\u001b[0m\n",
      "\n"
     ]
    },
    {
     "name": "stderr",
     "output_type": "stream",
     "text": [
      "100%|██████████| 15/15 [00:01<00:00,  7.56it/s, Epoch=10, LR=9.99e-5, Train_Auroc=0.931, Train_Loss=0.567]\n",
      "100%|██████████| 21/21 [00:01<00:00, 12.43it/s, Epoch=10, LR=9.99e-5, Valid_Auroc=0.523, Valid_Loss=0.76] \n"
     ]
    },
    {
     "name": "stdout",
     "output_type": "stream",
     "text": [
      "\n"
     ]
    },
    {
     "name": "stderr",
     "output_type": "stream",
     "text": [
      "100%|██████████| 15/15 [00:01<00:00,  7.61it/s, Epoch=11, LR=9.99e-5, Train_Auroc=0.925, Train_Loss=0.565]\n",
      "100%|██████████| 21/21 [00:01<00:00, 12.39it/s, Epoch=11, LR=9.99e-5, Valid_Auroc=0.523, Valid_Loss=0.784]\n"
     ]
    },
    {
     "name": "stdout",
     "output_type": "stream",
     "text": [
      "\n"
     ]
    },
    {
     "name": "stderr",
     "output_type": "stream",
     "text": [
      "100%|██████████| 15/15 [00:01<00:00,  7.58it/s, Epoch=12, LR=9.99e-5, Train_Auroc=0.916, Train_Loss=0.577]\n",
      "100%|██████████| 21/21 [00:01<00:00, 12.25it/s, Epoch=12, LR=9.99e-5, Valid_Auroc=0.523, Valid_Loss=0.766]\n"
     ]
    },
    {
     "name": "stdout",
     "output_type": "stream",
     "text": [
      "\n"
     ]
    },
    {
     "name": "stderr",
     "output_type": "stream",
     "text": [
      "100%|██████████| 15/15 [00:01<00:00,  7.63it/s, Epoch=13, LR=9.99e-5, Train_Auroc=0.929, Train_Loss=0.566]\n",
      "100%|██████████| 21/21 [00:01<00:00, 12.45it/s, Epoch=13, LR=9.99e-5, Valid_Auroc=0.524, Valid_Loss=0.792]\n"
     ]
    },
    {
     "name": "stdout",
     "output_type": "stream",
     "text": [
      "\u001b[34mValidation AUROC Improved (0.5242608036391205 ---> 0.5242608036391205)\n",
      "Model Saved\u001b[0m\n",
      "\n"
     ]
    },
    {
     "name": "stderr",
     "output_type": "stream",
     "text": [
      "100%|██████████| 15/15 [00:01<00:00,  7.54it/s, Epoch=14, LR=9.98e-5, Train_Auroc=0.91, Train_Loss=0.567] \n",
      "100%|██████████| 21/21 [00:01<00:00, 11.01it/s, Epoch=14, LR=9.98e-5, Valid_Auroc=0.524, Valid_Loss=0.766]\n"
     ]
    },
    {
     "name": "stdout",
     "output_type": "stream",
     "text": [
      "\u001b[34mValidation AUROC Improved (0.5242608036391205 ---> 0.5242608036391205)\n",
      "Model Saved\u001b[0m\n",
      "\n"
     ]
    },
    {
     "name": "stderr",
     "output_type": "stream",
     "text": [
      "100%|██████████| 15/15 [00:01<00:00,  7.51it/s, Epoch=15, LR=9.98e-5, Train_Auroc=0.937, Train_Loss=0.546]\n",
      "100%|██████████| 21/21 [00:01<00:00, 12.35it/s, Epoch=15, LR=9.98e-5, Valid_Auroc=0.524, Valid_Loss=0.786]\n"
     ]
    },
    {
     "name": "stdout",
     "output_type": "stream",
     "text": [
      "\u001b[34mValidation AUROC Improved (0.5242608036391205 ---> 0.5242608036391205)\n",
      "Model Saved\u001b[0m\n",
      "\n"
     ]
    },
    {
     "name": "stderr",
     "output_type": "stream",
     "text": [
      "100%|██████████| 15/15 [00:01<00:00,  7.57it/s, Epoch=16, LR=9.98e-5, Train_Auroc=0.919, Train_Loss=0.586]\n",
      "100%|██████████| 21/21 [00:01<00:00, 12.49it/s, Epoch=16, LR=9.98e-5, Valid_Auroc=0.524, Valid_Loss=0.77] \n"
     ]
    },
    {
     "name": "stdout",
     "output_type": "stream",
     "text": [
      "\u001b[34mValidation AUROC Improved (0.5242608036391205 ---> 0.5242608036391205)\n",
      "Model Saved\u001b[0m\n",
      "\n"
     ]
    },
    {
     "name": "stderr",
     "output_type": "stream",
     "text": [
      "100%|██████████| 15/15 [00:01<00:00,  7.50it/s, Epoch=17, LR=9.98e-5, Train_Auroc=0.938, Train_Loss=0.568]\n",
      "100%|██████████| 21/21 [00:01<00:00, 12.36it/s, Epoch=17, LR=9.98e-5, Valid_Auroc=0.524, Valid_Loss=0.777]\n"
     ]
    },
    {
     "name": "stdout",
     "output_type": "stream",
     "text": [
      "\u001b[34mValidation AUROC Improved (0.5242608036391205 ---> 0.5242608036391205)\n",
      "Model Saved\u001b[0m\n",
      "\n"
     ]
    },
    {
     "name": "stderr",
     "output_type": "stream",
     "text": [
      "100%|██████████| 15/15 [00:01<00:00,  7.58it/s, Epoch=18, LR=9.97e-5, Train_Auroc=0.936, Train_Loss=0.552]\n",
      "100%|██████████| 21/21 [00:01<00:00, 12.35it/s, Epoch=18, LR=9.97e-5, Valid_Auroc=0.524, Valid_Loss=0.769]\n"
     ]
    },
    {
     "name": "stdout",
     "output_type": "stream",
     "text": [
      "\u001b[34mValidation AUROC Improved (0.5242608036391205 ---> 0.5242608036391205)\n",
      "Model Saved\u001b[0m\n",
      "\n"
     ]
    },
    {
     "name": "stderr",
     "output_type": "stream",
     "text": [
      "100%|██████████| 15/15 [00:02<00:00,  7.46it/s, Epoch=19, LR=9.97e-5, Train_Auroc=0.952, Train_Loss=0.536]\n",
      "100%|██████████| 21/21 [00:01<00:00, 12.45it/s, Epoch=19, LR=9.97e-5, Valid_Auroc=0.524, Valid_Loss=0.792]\n"
     ]
    },
    {
     "name": "stdout",
     "output_type": "stream",
     "text": [
      "\u001b[34mValidation AUROC Improved (0.5242608036391205 ---> 0.5242608036391205)\n",
      "Model Saved\u001b[0m\n",
      "\n"
     ]
    },
    {
     "name": "stderr",
     "output_type": "stream",
     "text": [
      "100%|██████████| 15/15 [00:01<00:00,  7.57it/s, Epoch=20, LR=9.97e-5, Train_Auroc=0.937, Train_Loss=0.549]\n",
      "100%|██████████| 21/21 [00:01<00:00, 12.38it/s, Epoch=20, LR=9.97e-5, Valid_Auroc=0.524, Valid_Loss=0.768]\n"
     ]
    },
    {
     "name": "stdout",
     "output_type": "stream",
     "text": [
      "\u001b[34mValidation AUROC Improved (0.5242608036391205 ---> 0.5242608036391205)\n",
      "Model Saved\u001b[0m\n",
      "\n"
     ]
    },
    {
     "name": "stderr",
     "output_type": "stream",
     "text": [
      "100%|██████████| 15/15 [00:01<00:00,  7.66it/s, Epoch=21, LR=9.96e-5, Train_Auroc=0.924, Train_Loss=0.593]\n",
      "100%|██████████| 21/21 [00:01<00:00, 12.16it/s, Epoch=21, LR=9.96e-5, Valid_Auroc=0.524, Valid_Loss=0.745]\n"
     ]
    },
    {
     "name": "stdout",
     "output_type": "stream",
     "text": [
      "\u001b[34mValidation AUROC Improved (0.5242608036391205 ---> 0.5242608036391205)\n",
      "Model Saved\u001b[0m\n",
      "\n"
     ]
    },
    {
     "name": "stderr",
     "output_type": "stream",
     "text": [
      "100%|██████████| 15/15 [00:01<00:00,  7.62it/s, Epoch=22, LR=9.96e-5, Train_Auroc=0.918, Train_Loss=0.571]\n",
      "100%|██████████| 21/21 [00:01<00:00, 12.11it/s, Epoch=22, LR=9.96e-5, Valid_Auroc=0.524, Valid_Loss=0.763]\n"
     ]
    },
    {
     "name": "stdout",
     "output_type": "stream",
     "text": [
      "\u001b[34mValidation AUROC Improved (0.5242608036391205 ---> 0.5242608036391205)\n",
      "Model Saved\u001b[0m\n",
      "\n"
     ]
    },
    {
     "name": "stderr",
     "output_type": "stream",
     "text": [
      "100%|██████████| 15/15 [00:01<00:00,  7.62it/s, Epoch=23, LR=9.96e-5, Train_Auroc=0.936, Train_Loss=0.564]\n",
      "100%|██████████| 21/21 [00:01<00:00, 12.33it/s, Epoch=23, LR=9.96e-5, Valid_Auroc=0.524, Valid_Loss=0.758]\n"
     ]
    },
    {
     "name": "stdout",
     "output_type": "stream",
     "text": [
      "\u001b[34mValidation AUROC Improved (0.5242608036391205 ---> 0.5242608036391205)\n",
      "Model Saved\u001b[0m\n",
      "\n"
     ]
    },
    {
     "name": "stderr",
     "output_type": "stream",
     "text": [
      "100%|██████████| 15/15 [00:01<00:00,  7.63it/s, Epoch=24, LR=9.95e-5, Train_Auroc=0.95, Train_Loss=0.538] \n",
      "100%|██████████| 21/21 [00:01<00:00, 12.35it/s, Epoch=24, LR=9.95e-5, Valid_Auroc=0.524, Valid_Loss=0.749]\n"
     ]
    },
    {
     "name": "stdout",
     "output_type": "stream",
     "text": [
      "\u001b[34mValidation AUROC Improved (0.5242608036391205 ---> 0.5242608036391205)\n",
      "Model Saved\u001b[0m\n",
      "\n"
     ]
    },
    {
     "name": "stderr",
     "output_type": "stream",
     "text": [
      "100%|██████████| 15/15 [00:01<00:00,  7.65it/s, Epoch=25, LR=9.95e-5, Train_Auroc=0.941, Train_Loss=0.548]\n",
      "100%|██████████| 21/21 [00:01<00:00, 12.19it/s, Epoch=25, LR=9.95e-5, Valid_Auroc=0.524, Valid_Loss=0.759]\n"
     ]
    },
    {
     "name": "stdout",
     "output_type": "stream",
     "text": [
      "\u001b[34mValidation AUROC Improved (0.5242608036391205 ---> 0.5242608036391205)\n",
      "Model Saved\u001b[0m\n",
      "\n"
     ]
    },
    {
     "name": "stderr",
     "output_type": "stream",
     "text": [
      "100%|██████████| 15/15 [00:01<00:00,  7.60it/s, Epoch=26, LR=9.95e-5, Train_Auroc=0.95, Train_Loss=0.563] \n",
      "100%|██████████| 21/21 [00:01<00:00, 12.06it/s, Epoch=26, LR=9.95e-5, Valid_Auroc=0.524, Valid_Loss=0.767]\n"
     ]
    },
    {
     "name": "stdout",
     "output_type": "stream",
     "text": [
      "\u001b[34mValidation AUROC Improved (0.5242608036391205 ---> 0.5242608036391205)\n",
      "Model Saved\u001b[0m\n",
      "\n"
     ]
    },
    {
     "name": "stderr",
     "output_type": "stream",
     "text": [
      "100%|██████████| 15/15 [00:01<00:00,  7.66it/s, Epoch=27, LR=9.94e-5, Train_Auroc=0.948, Train_Loss=0.567]\n",
      "100%|██████████| 21/21 [00:01<00:00, 12.33it/s, Epoch=27, LR=9.94e-5, Valid_Auroc=0.524, Valid_Loss=0.728]\n"
     ]
    },
    {
     "name": "stdout",
     "output_type": "stream",
     "text": [
      "\u001b[34mValidation AUROC Improved (0.5242608036391205 ---> 0.5242608036391205)\n",
      "Model Saved\u001b[0m\n",
      "\n"
     ]
    },
    {
     "name": "stderr",
     "output_type": "stream",
     "text": [
      "100%|██████████| 15/15 [00:02<00:00,  6.80it/s, Epoch=28, LR=9.94e-5, Train_Auroc=0.957, Train_Loss=0.543]\n",
      "100%|██████████| 21/21 [00:01<00:00, 12.22it/s, Epoch=28, LR=9.94e-5, Valid_Auroc=0.524, Valid_Loss=0.764]\n"
     ]
    },
    {
     "name": "stdout",
     "output_type": "stream",
     "text": [
      "\u001b[34mValidation AUROC Improved (0.5242608036391205 ---> 0.5242608036391205)\n",
      "Model Saved\u001b[0m\n",
      "\n"
     ]
    },
    {
     "name": "stderr",
     "output_type": "stream",
     "text": [
      "100%|██████████| 15/15 [00:01<00:00,  7.53it/s, Epoch=29, LR=9.93e-5, Train_Auroc=0.949, Train_Loss=0.536]\n",
      "100%|██████████| 21/21 [00:01<00:00, 12.21it/s, Epoch=29, LR=9.93e-5, Valid_Auroc=0.524, Valid_Loss=0.788]\n"
     ]
    },
    {
     "name": "stdout",
     "output_type": "stream",
     "text": [
      "\u001b[34mValidation AUROC Improved (0.5242608036391205 ---> 0.5242608036391205)\n",
      "Model Saved\u001b[0m\n",
      "\n"
     ]
    },
    {
     "name": "stderr",
     "output_type": "stream",
     "text": [
      "100%|██████████| 15/15 [00:01<00:00,  7.54it/s, Epoch=30, LR=9.93e-5, Train_Auroc=0.962, Train_Loss=0.554]\n",
      "100%|██████████| 21/21 [00:01<00:00, 12.12it/s, Epoch=30, LR=9.93e-5, Valid_Auroc=0.523, Valid_Loss=0.739]\n"
     ]
    },
    {
     "name": "stdout",
     "output_type": "stream",
     "text": [
      "\n"
     ]
    },
    {
     "name": "stderr",
     "output_type": "stream",
     "text": [
      "100%|██████████| 15/15 [00:01<00:00,  7.55it/s, Epoch=31, LR=9.92e-5, Train_Auroc=0.949, Train_Loss=0.546]\n",
      "100%|██████████| 21/21 [00:01<00:00, 12.02it/s, Epoch=31, LR=9.92e-5, Valid_Auroc=0.524, Valid_Loss=0.771]\n"
     ]
    },
    {
     "name": "stdout",
     "output_type": "stream",
     "text": [
      "\u001b[34mValidation AUROC Improved (0.5242608036391205 ---> 0.5242608036391205)\n",
      "Model Saved\u001b[0m\n",
      "\n"
     ]
    },
    {
     "name": "stderr",
     "output_type": "stream",
     "text": [
      "100%|██████████| 15/15 [00:01<00:00,  7.56it/s, Epoch=32, LR=9.92e-5, Train_Auroc=0.942, Train_Loss=0.561]\n",
      "100%|██████████| 21/21 [00:01<00:00, 12.04it/s, Epoch=32, LR=9.92e-5, Valid_Auroc=0.524, Valid_Loss=0.749]\n"
     ]
    },
    {
     "name": "stdout",
     "output_type": "stream",
     "text": [
      "\u001b[34mValidation AUROC Improved (0.5242608036391205 ---> 0.5242608036391205)\n",
      "Model Saved\u001b[0m\n",
      "\n"
     ]
    },
    {
     "name": "stderr",
     "output_type": "stream",
     "text": [
      "100%|██████████| 15/15 [00:02<00:00,  7.49it/s, Epoch=33, LR=9.91e-5, Train_Auroc=0.95, Train_Loss=0.544] \n",
      "100%|██████████| 21/21 [00:01<00:00, 12.40it/s, Epoch=33, LR=9.91e-5, Valid_Auroc=0.524, Valid_Loss=0.751]\n"
     ]
    },
    {
     "name": "stdout",
     "output_type": "stream",
     "text": [
      "\u001b[34mValidation AUROC Improved (0.5242608036391205 ---> 0.5242608036391205)\n",
      "Model Saved\u001b[0m\n",
      "\n"
     ]
    },
    {
     "name": "stderr",
     "output_type": "stream",
     "text": [
      "100%|██████████| 15/15 [00:01<00:00,  7.59it/s, Epoch=34, LR=9.91e-5, Train_Auroc=0.957, Train_Loss=0.535]\n",
      "100%|██████████| 21/21 [00:01<00:00, 12.32it/s, Epoch=34, LR=9.91e-5, Valid_Auroc=0.524, Valid_Loss=0.755]\n"
     ]
    },
    {
     "name": "stdout",
     "output_type": "stream",
     "text": [
      "\u001b[34mValidation AUROC Improved (0.5242608036391205 ---> 0.5242608036391205)\n",
      "Model Saved\u001b[0m\n",
      "\n"
     ]
    },
    {
     "name": "stderr",
     "output_type": "stream",
     "text": [
      "100%|██████████| 15/15 [00:01<00:00,  7.57it/s, Epoch=35, LR=9.9e-5, Train_Auroc=0.958, Train_Loss=0.529]\n",
      "100%|██████████| 21/21 [00:01<00:00, 12.20it/s, Epoch=35, LR=9.9e-5, Valid_Auroc=0.524, Valid_Loss=0.752]\n"
     ]
    },
    {
     "name": "stdout",
     "output_type": "stream",
     "text": [
      "\u001b[34mValidation AUROC Improved (0.5242608036391205 ---> 0.5242608036391205)\n",
      "Model Saved\u001b[0m\n",
      "\n"
     ]
    },
    {
     "name": "stderr",
     "output_type": "stream",
     "text": [
      "100%|██████████| 15/15 [00:01<00:00,  7.62it/s, Epoch=36, LR=9.9e-5, Train_Auroc=0.965, Train_Loss=0.546]\n",
      "100%|██████████| 21/21 [00:01<00:00, 12.20it/s, Epoch=36, LR=9.9e-5, Valid_Auroc=0.524, Valid_Loss=0.763]\n"
     ]
    },
    {
     "name": "stdout",
     "output_type": "stream",
     "text": [
      "\u001b[34mValidation AUROC Improved (0.5242608036391205 ---> 0.5242608036391205)\n",
      "Model Saved\u001b[0m\n",
      "\n"
     ]
    },
    {
     "name": "stderr",
     "output_type": "stream",
     "text": [
      "100%|██████████| 15/15 [00:02<00:00,  7.50it/s, Epoch=37, LR=9.89e-5, Train_Auroc=0.961, Train_Loss=0.545]\n",
      "100%|██████████| 21/21 [00:01<00:00, 11.86it/s, Epoch=37, LR=9.89e-5, Valid_Auroc=0.524, Valid_Loss=0.74] \n"
     ]
    },
    {
     "name": "stdout",
     "output_type": "stream",
     "text": [
      "\u001b[34mValidation AUROC Improved (0.5242608036391205 ---> 0.5242608036391205)\n",
      "Model Saved\u001b[0m\n",
      "\n"
     ]
    },
    {
     "name": "stderr",
     "output_type": "stream",
     "text": [
      "100%|██████████| 15/15 [00:02<00:00,  7.50it/s, Epoch=38, LR=9.88e-5, Train_Auroc=0.956, Train_Loss=0.531]\n",
      "100%|██████████| 21/21 [00:01<00:00, 12.26it/s, Epoch=38, LR=9.88e-5, Valid_Auroc=0.524, Valid_Loss=0.75] \n"
     ]
    },
    {
     "name": "stdout",
     "output_type": "stream",
     "text": [
      "\u001b[34mValidation AUROC Improved (0.5242608036391205 ---> 0.5242608036391205)\n",
      "Model Saved\u001b[0m\n",
      "\n"
     ]
    },
    {
     "name": "stderr",
     "output_type": "stream",
     "text": [
      "100%|██████████| 15/15 [00:02<00:00,  7.48it/s, Epoch=39, LR=9.88e-5, Train_Auroc=0.965, Train_Loss=0.546]\n",
      "100%|██████████| 21/21 [00:01<00:00, 12.23it/s, Epoch=39, LR=9.88e-5, Valid_Auroc=0.524, Valid_Loss=0.787]\n"
     ]
    },
    {
     "name": "stdout",
     "output_type": "stream",
     "text": [
      "\u001b[34mValidation AUROC Improved (0.5242608036391205 ---> 0.5242608036391205)\n",
      "Model Saved\u001b[0m\n",
      "\n"
     ]
    },
    {
     "name": "stderr",
     "output_type": "stream",
     "text": [
      "100%|██████████| 15/15 [00:01<00:00,  7.59it/s, Epoch=40, LR=9.87e-5, Train_Auroc=0.954, Train_Loss=0.546]\n",
      "100%|██████████| 21/21 [00:01<00:00, 12.11it/s, Epoch=40, LR=9.87e-5, Valid_Auroc=0.524, Valid_Loss=0.763]\n"
     ]
    },
    {
     "name": "stdout",
     "output_type": "stream",
     "text": [
      "\u001b[34mValidation AUROC Improved (0.5242608036391205 ---> 0.5242608036391205)\n",
      "Model Saved\u001b[0m\n",
      "\n"
     ]
    },
    {
     "name": "stderr",
     "output_type": "stream",
     "text": [
      "100%|██████████| 15/15 [00:01<00:00,  7.52it/s, Epoch=41, LR=9.86e-5, Train_Auroc=0.956, Train_Loss=0.551]\n",
      "100%|██████████| 21/21 [00:01<00:00, 10.61it/s, Epoch=41, LR=9.86e-5, Valid_Auroc=0.524, Valid_Loss=0.772]\n"
     ]
    },
    {
     "name": "stdout",
     "output_type": "stream",
     "text": [
      "\u001b[34mValidation AUROC Improved (0.5242608036391205 ---> 0.5242608036391205)\n",
      "Model Saved\u001b[0m\n",
      "\n"
     ]
    },
    {
     "name": "stderr",
     "output_type": "stream",
     "text": [
      "100%|██████████| 15/15 [00:02<00:00,  7.45it/s, Epoch=42, LR=9.86e-5, Train_Auroc=0.974, Train_Loss=0.528]\n",
      "100%|██████████| 21/21 [00:01<00:00, 11.94it/s, Epoch=42, LR=9.86e-5, Valid_Auroc=0.524, Valid_Loss=0.776]\n"
     ]
    },
    {
     "name": "stdout",
     "output_type": "stream",
     "text": [
      "\u001b[34mValidation AUROC Improved (0.5242608036391205 ---> 0.5242608036391205)\n",
      "Model Saved\u001b[0m\n",
      "\n"
     ]
    },
    {
     "name": "stderr",
     "output_type": "stream",
     "text": [
      "100%|██████████| 15/15 [00:01<00:00,  7.52it/s, Epoch=43, LR=9.85e-5, Train_Auroc=0.952, Train_Loss=0.543]\n",
      "100%|██████████| 21/21 [00:01<00:00, 12.19it/s, Epoch=43, LR=9.85e-5, Valid_Auroc=0.524, Valid_Loss=0.743]\n"
     ]
    },
    {
     "name": "stdout",
     "output_type": "stream",
     "text": [
      "\u001b[34mValidation AUROC Improved (0.5242608036391205 ---> 0.5242608036391205)\n",
      "Model Saved\u001b[0m\n",
      "\n"
     ]
    },
    {
     "name": "stderr",
     "output_type": "stream",
     "text": [
      "100%|██████████| 15/15 [00:01<00:00,  7.59it/s, Epoch=44, LR=9.84e-5, Train_Auroc=0.963, Train_Loss=0.543]\n",
      "100%|██████████| 21/21 [00:01<00:00, 12.09it/s, Epoch=44, LR=9.84e-5, Valid_Auroc=0.524, Valid_Loss=0.745]\n"
     ]
    },
    {
     "name": "stdout",
     "output_type": "stream",
     "text": [
      "\u001b[34mValidation AUROC Improved (0.5242608036391205 ---> 0.5242608036391205)\n",
      "Model Saved\u001b[0m\n",
      "\n"
     ]
    },
    {
     "name": "stderr",
     "output_type": "stream",
     "text": [
      "100%|██████████| 15/15 [00:02<00:00,  7.48it/s, Epoch=45, LR=9.84e-5, Train_Auroc=0.963, Train_Loss=0.537]\n",
      "100%|██████████| 21/21 [00:01<00:00, 11.97it/s, Epoch=45, LR=9.84e-5, Valid_Auroc=0.524, Valid_Loss=0.755]\n"
     ]
    },
    {
     "name": "stdout",
     "output_type": "stream",
     "text": [
      "\u001b[34mValidation AUROC Improved (0.5242608036391205 ---> 0.5242608036391205)\n",
      "Model Saved\u001b[0m\n",
      "\n"
     ]
    },
    {
     "name": "stderr",
     "output_type": "stream",
     "text": [
      "100%|██████████| 15/15 [00:01<00:00,  7.50it/s, Epoch=46, LR=9.83e-5, Train_Auroc=0.962, Train_Loss=0.543]\n",
      "100%|██████████| 21/21 [00:01<00:00, 12.21it/s, Epoch=46, LR=9.83e-5, Valid_Auroc=0.524, Valid_Loss=0.75] \n"
     ]
    },
    {
     "name": "stdout",
     "output_type": "stream",
     "text": [
      "\u001b[34mValidation AUROC Improved (0.5242608036391205 ---> 0.5242608036391205)\n",
      "Model Saved\u001b[0m\n",
      "\n"
     ]
    },
    {
     "name": "stderr",
     "output_type": "stream",
     "text": [
      "100%|██████████| 15/15 [00:02<00:00,  7.45it/s, Epoch=47, LR=9.82e-5, Train_Auroc=0.969, Train_Loss=0.532]\n",
      "100%|██████████| 21/21 [00:01<00:00, 12.29it/s, Epoch=47, LR=9.82e-5, Valid_Auroc=0.524, Valid_Loss=0.751]\n"
     ]
    },
    {
     "name": "stdout",
     "output_type": "stream",
     "text": [
      "\u001b[34mValidation AUROC Improved (0.5242608036391205 ---> 0.5242608036391205)\n",
      "Model Saved\u001b[0m\n",
      "\n"
     ]
    },
    {
     "name": "stderr",
     "output_type": "stream",
     "text": [
      "100%|██████████| 15/15 [00:01<00:00,  7.50it/s, Epoch=48, LR=9.81e-5, Train_Auroc=0.957, Train_Loss=0.543]\n",
      "100%|██████████| 21/21 [00:01<00:00, 12.09it/s, Epoch=48, LR=9.81e-5, Valid_Auroc=0.524, Valid_Loss=0.757]\n"
     ]
    },
    {
     "name": "stdout",
     "output_type": "stream",
     "text": [
      "\u001b[34mValidation AUROC Improved (0.5242608036391205 ---> 0.5242608036391205)\n",
      "Model Saved\u001b[0m\n",
      "\n"
     ]
    },
    {
     "name": "stderr",
     "output_type": "stream",
     "text": [
      "100%|██████████| 15/15 [00:01<00:00,  7.52it/s, Epoch=49, LR=9.81e-5, Train_Auroc=0.967, Train_Loss=0.525]\n",
      "100%|██████████| 21/21 [00:01<00:00, 12.21it/s, Epoch=49, LR=9.81e-5, Valid_Auroc=0.524, Valid_Loss=0.775]\n"
     ]
    },
    {
     "name": "stdout",
     "output_type": "stream",
     "text": [
      "\u001b[34mValidation AUROC Improved (0.5242608036391205 ---> 0.5242608036391205)\n",
      "Model Saved\u001b[0m\n",
      "\n"
     ]
    },
    {
     "name": "stderr",
     "output_type": "stream",
     "text": [
      "100%|██████████| 15/15 [00:02<00:00,  7.48it/s, Epoch=50, LR=9.8e-5, Train_Auroc=0.976, Train_Loss=0.54] \n",
      "100%|██████████| 21/21 [00:01<00:00, 12.02it/s, Epoch=50, LR=9.8e-5, Valid_Auroc=0.524, Valid_Loss=0.763]\n"
     ]
    },
    {
     "name": "stdout",
     "output_type": "stream",
     "text": [
      "\u001b[34mValidation AUROC Improved (0.5242608036391205 ---> 0.5242608036391205)\n",
      "Model Saved\u001b[0m\n",
      "\n",
      "Training complete in 0h 3m 49s\n",
      "Best AUROC: 0.5243\n"
     ]
    }
   ],
   "source": [
    "model, history = run_training(model, optimizer, scheduler,\n",
    "                              device=CONFIG['device'],\n",
    "                              num_epochs=CONFIG['epochs'])"
   ]
  },
  {
   "cell_type": "code",
   "execution_count": 218,
   "metadata": {
    "papermill": {
     "duration": 0.408452,
     "end_time": "2024-06-29T23:30:27.325321",
     "exception": false,
     "start_time": "2024-06-29T23:30:26.916869",
     "status": "completed"
    },
    "tags": []
   },
   "outputs": [],
   "source": [
    "history = pd.DataFrame.from_dict(history)"
   ]
  },
  {
   "cell_type": "markdown",
   "metadata": {
    "papermill": {
     "duration": 0.390665,
     "end_time": "2024-06-29T23:30:28.107797",
     "exception": false,
     "start_time": "2024-06-29T23:30:27.717132",
     "status": "completed"
    },
    "tags": []
   },
   "source": [
    "# <span><h1 style = \"font-family: garamond; font-size: 40px; font-style: normal; letter-spcaing: 3px; background-color: #f6f5f5; color :#fe346e; border-radius: 100px 100px; text-align:center\">Logs</h1></span>"
   ]
  },
  {
   "cell_type": "code",
   "execution_count": 219,
   "metadata": {
    "papermill": {
     "duration": 0.673512,
     "end_time": "2024-06-29T23:30:29.236485",
     "exception": false,
     "start_time": "2024-06-29T23:30:28.562973",
     "status": "completed"
    },
    "tags": []
   },
   "outputs": [
    {
     "data": {
      "image/png": "[encoded data removed]",
      "text/plain": [
       "<Figure size 640x480 with 1 Axes>"
      ]
     },
     "metadata": {},
     "output_type": "display_data"
    }
   ],
   "source": [
    "plt.plot( range(history.shape[0]), history[\"Train Loss\"].values, label=\"Train Loss\")\n",
    "plt.plot( range(history.shape[0]), history[\"Valid Loss\"].values, label=\"Valid Loss\")\n",
    "plt.xlabel(\"epochs\")\n",
    "plt.ylabel(\"Loss\")\n",
    "plt.grid()\n",
    "plt.legend()\n",
    "plt.show()"
   ]
  },
  {
   "cell_type": "code",
   "execution_count": 220,
   "metadata": {
    "papermill": {
     "duration": 0.648584,
     "end_time": "2024-06-29T23:30:30.277915",
     "exception": false,
     "start_time": "2024-06-29T23:30:29.629331",
     "status": "completed"
    },
    "tags": []
   },
   "outputs": [
    {
     "data": {
      "image/png": "[encoded data removed]",
      "text/plain": [
       "<Figure size 640x480 with 1 Axes>"
      ]
     },
     "metadata": {},
     "output_type": "display_data"
    }
   ],
   "source": [
    "plt.plot( range(history.shape[0]), history[\"Train AUROC\"].values, label=\"Train AUROC\")\n",
    "plt.plot( range(history.shape[0]), history[\"Valid AUROC\"].values, label=\"Valid AUROC\")\n",
    "plt.xlabel(\"epochs\")\n",
    "plt.ylabel(\"AUROC\")\n",
    "plt.grid()\n",
    "plt.legend()\n",
    "plt.show()"
   ]
  },
  {
   "cell_type": "code",
   "execution_count": 221,
   "metadata": {
    "papermill": {
     "duration": 0.617692,
     "end_time": "2024-06-29T23:30:31.290602",
     "exception": false,
     "start_time": "2024-06-29T23:30:30.67291",
     "status": "completed"
    },
    "tags": []
   },
   "outputs": [
    {
     "data": {
      "image/png": "[encoded data removed]",
      "text/plain": [
       "<Figure size 640x480 with 1 Axes>"
      ]
     },
     "metadata": {},
     "output_type": "display_data"
    }
   ],
   "source": [
    "plt.plot( range(history.shape[0]), history[\"lr\"].values, label=\"lr\")\n",
    "plt.xlabel(\"epochs\")\n",
    "plt.ylabel(\"lr\")\n",
    "plt.grid()\n",
    "plt.legend()\n",
    "plt.show()"
   ]
  },
  {
   "cell_type": "code",
   "execution_count": 222,
   "metadata": {},
   "outputs": [
    {
     "data": {
      "text/html": [
       "<div>\n",
       "<style scoped>\n",
       "    .dataframe tbody tr th:only-of-type {\n",
       "        vertical-align: middle;\n",
       "    }\n",
       "\n",
       "    .dataframe tbody tr th {\n",
       "        vertical-align: top;\n",
       "    }\n",
       "\n",
       "    .dataframe thead th {\n",
       "        text-align: right;\n",
       "    }\n",
       "</style>\n",
       "<table border=\"1\" class=\"dataframe\">\n",
       "  <thead>\n",
       "    <tr style=\"text-align: right;\">\n",
       "      <th></th>\n",
       "      <th>id</th>\n",
       "      <th>target</th>\n",
       "      <th>age_approx</th>\n",
       "      <th>sex</th>\n",
       "      <th>anatom_site_general</th>\n",
       "      <th>clin_size_long_diam_mm</th>\n",
       "      <th>tbp_tile_type</th>\n",
       "      <th>tbp_lv_A</th>\n",
       "      <th>tbp_lv_Aext</th>\n",
       "      <th>tbp_lv_B</th>\n",
       "      <th>...</th>\n",
       "      <th>tbp_lv_perimeterMM</th>\n",
       "      <th>tbp_lv_radial_color_std_max</th>\n",
       "      <th>tbp_lv_stdL</th>\n",
       "      <th>tbp_lv_stdLExt</th>\n",
       "      <th>tbp_lv_symm_2axis</th>\n",
       "      <th>tbp_lv_symm_2axis_angle</th>\n",
       "      <th>tbp_lv_x</th>\n",
       "      <th>tbp_lv_y</th>\n",
       "      <th>tbp_lv_z</th>\n",
       "      <th>file_path</th>\n",
       "    </tr>\n",
       "  </thead>\n",
       "  <tbody>\n",
       "    <tr>\n",
       "      <th>0</th>\n",
       "      <td>0</td>\n",
       "      <td>NaN</td>\n",
       "      <td>30.0</td>\n",
       "      <td>male</td>\n",
       "      <td>upper extremity</td>\n",
       "      <td>2.52</td>\n",
       "      <td>3D: white</td>\n",
       "      <td>20.739760</td>\n",
       "      <td>17.346250</td>\n",
       "      <td>23.604410</td>\n",
       "      <td>...</td>\n",
       "      <td>9.113276</td>\n",
       "      <td>0.793600</td>\n",
       "      <td>1.368380</td>\n",
       "      <td>3.130576</td>\n",
       "      <td>0.392593</td>\n",
       "      <td>85</td>\n",
       "      <td>-352.631000</td>\n",
       "      <td>1024.501000</td>\n",
       "      <td>21.431270</td>\n",
       "      <td>/projectnb/cs640grp/materials/ISIC-2024_CS640/...</td>\n",
       "    </tr>\n",
       "    <tr>\n",
       "      <th>1</th>\n",
       "      <td>1</td>\n",
       "      <td>NaN</td>\n",
       "      <td>75.0</td>\n",
       "      <td>male</td>\n",
       "      <td>upper extremity</td>\n",
       "      <td>2.63</td>\n",
       "      <td>3D: white</td>\n",
       "      <td>21.498600</td>\n",
       "      <td>17.128050</td>\n",
       "      <td>26.919320</td>\n",
       "      <td>...</td>\n",
       "      <td>6.968501</td>\n",
       "      <td>1.322546</td>\n",
       "      <td>2.980941</td>\n",
       "      <td>2.610491</td>\n",
       "      <td>0.342857</td>\n",
       "      <td>150</td>\n",
       "      <td>317.008100</td>\n",
       "      <td>1296.112000</td>\n",
       "      <td>85.410520</td>\n",
       "      <td>/projectnb/cs640grp/materials/ISIC-2024_CS640/...</td>\n",
       "    </tr>\n",
       "    <tr>\n",
       "      <th>2</th>\n",
       "      <td>2</td>\n",
       "      <td>NaN</td>\n",
       "      <td>30.0</td>\n",
       "      <td>male</td>\n",
       "      <td>lower extremity</td>\n",
       "      <td>18.31</td>\n",
       "      <td>3D: XP</td>\n",
       "      <td>21.261867</td>\n",
       "      <td>15.949655</td>\n",
       "      <td>36.927874</td>\n",
       "      <td>...</td>\n",
       "      <td>67.921989</td>\n",
       "      <td>1.323685</td>\n",
       "      <td>1.912243</td>\n",
       "      <td>3.394053</td>\n",
       "      <td>0.385400</td>\n",
       "      <td>145</td>\n",
       "      <td>-185.792664</td>\n",
       "      <td>680.623718</td>\n",
       "      <td>-21.791901</td>\n",
       "      <td>/projectnb/cs640grp/materials/ISIC-2024_CS640/...</td>\n",
       "    </tr>\n",
       "    <tr>\n",
       "      <th>3</th>\n",
       "      <td>3</td>\n",
       "      <td>NaN</td>\n",
       "      <td>45.0</td>\n",
       "      <td>female</td>\n",
       "      <td>upper extremity</td>\n",
       "      <td>3.55</td>\n",
       "      <td>3D: XP</td>\n",
       "      <td>21.087236</td>\n",
       "      <td>15.657230</td>\n",
       "      <td>31.419333</td>\n",
       "      <td>...</td>\n",
       "      <td>10.582854</td>\n",
       "      <td>0.691356</td>\n",
       "      <td>1.349557</td>\n",
       "      <td>1.570233</td>\n",
       "      <td>0.250000</td>\n",
       "      <td>155</td>\n",
       "      <td>443.583984</td>\n",
       "      <td>1213.412598</td>\n",
       "      <td>39.409851</td>\n",
       "      <td>/projectnb/cs640grp/materials/ISIC-2024_CS640/...</td>\n",
       "    </tr>\n",
       "    <tr>\n",
       "      <th>4</th>\n",
       "      <td>4</td>\n",
       "      <td>NaN</td>\n",
       "      <td>55.0</td>\n",
       "      <td>male</td>\n",
       "      <td>anterior torso</td>\n",
       "      <td>7.06</td>\n",
       "      <td>3D: white</td>\n",
       "      <td>22.121790</td>\n",
       "      <td>14.444030</td>\n",
       "      <td>30.308130</td>\n",
       "      <td>...</td>\n",
       "      <td>19.856620</td>\n",
       "      <td>0.989644</td>\n",
       "      <td>3.126280</td>\n",
       "      <td>2.467318</td>\n",
       "      <td>0.227068</td>\n",
       "      <td>70</td>\n",
       "      <td>-162.127900</td>\n",
       "      <td>1043.082000</td>\n",
       "      <td>-44.661830</td>\n",
       "      <td>/projectnb/cs640grp/materials/ISIC-2024_CS640/...</td>\n",
       "    </tr>\n",
       "    <tr>\n",
       "      <th>...</th>\n",
       "      <td>...</td>\n",
       "      <td>...</td>\n",
       "      <td>...</td>\n",
       "      <td>...</td>\n",
       "      <td>...</td>\n",
       "      <td>...</td>\n",
       "      <td>...</td>\n",
       "      <td>...</td>\n",
       "      <td>...</td>\n",
       "      <td>...</td>\n",
       "      <td>...</td>\n",
       "      <td>...</td>\n",
       "      <td>...</td>\n",
       "      <td>...</td>\n",
       "      <td>...</td>\n",
       "      <td>...</td>\n",
       "      <td>...</td>\n",
       "      <td>...</td>\n",
       "      <td>...</td>\n",
       "      <td>...</td>\n",
       "      <td>...</td>\n",
       "    </tr>\n",
       "    <tr>\n",
       "      <th>80207</th>\n",
       "      <td>80207</td>\n",
       "      <td>NaN</td>\n",
       "      <td>75.0</td>\n",
       "      <td>male</td>\n",
       "      <td>posterior torso</td>\n",
       "      <td>2.88</td>\n",
       "      <td>3D: white</td>\n",
       "      <td>20.565030</td>\n",
       "      <td>15.228920</td>\n",
       "      <td>30.234170</td>\n",
       "      <td>...</td>\n",
       "      <td>8.111398</td>\n",
       "      <td>0.618510</td>\n",
       "      <td>2.274461</td>\n",
       "      <td>1.914292</td>\n",
       "      <td>0.232000</td>\n",
       "      <td>10</td>\n",
       "      <td>-72.637900</td>\n",
       "      <td>1487.536000</td>\n",
       "      <td>138.852900</td>\n",
       "      <td>/projectnb/cs640grp/materials/ISIC-2024_CS640/...</td>\n",
       "    </tr>\n",
       "    <tr>\n",
       "      <th>80208</th>\n",
       "      <td>80208</td>\n",
       "      <td>NaN</td>\n",
       "      <td>50.0</td>\n",
       "      <td>male</td>\n",
       "      <td>upper extremity</td>\n",
       "      <td>4.20</td>\n",
       "      <td>3D: white</td>\n",
       "      <td>16.314590</td>\n",
       "      <td>14.611030</td>\n",
       "      <td>25.403000</td>\n",
       "      <td>...</td>\n",
       "      <td>11.952720</td>\n",
       "      <td>0.599103</td>\n",
       "      <td>1.422653</td>\n",
       "      <td>2.196585</td>\n",
       "      <td>0.331522</td>\n",
       "      <td>45</td>\n",
       "      <td>-477.687100</td>\n",
       "      <td>1121.040000</td>\n",
       "      <td>-38.915830</td>\n",
       "      <td>/projectnb/cs640grp/materials/ISIC-2024_CS640/...</td>\n",
       "    </tr>\n",
       "    <tr>\n",
       "      <th>80209</th>\n",
       "      <td>80209</td>\n",
       "      <td>NaN</td>\n",
       "      <td>40.0</td>\n",
       "      <td>female</td>\n",
       "      <td>upper extremity</td>\n",
       "      <td>2.90</td>\n",
       "      <td>3D: XP</td>\n",
       "      <td>21.597580</td>\n",
       "      <td>17.705739</td>\n",
       "      <td>27.266721</td>\n",
       "      <td>...</td>\n",
       "      <td>8.872541</td>\n",
       "      <td>1.076741</td>\n",
       "      <td>3.248064</td>\n",
       "      <td>1.624508</td>\n",
       "      <td>0.359477</td>\n",
       "      <td>25</td>\n",
       "      <td>442.464355</td>\n",
       "      <td>1128.834351</td>\n",
       "      <td>31.510681</td>\n",
       "      <td>/projectnb/cs640grp/materials/ISIC-2024_CS640/...</td>\n",
       "    </tr>\n",
       "    <tr>\n",
       "      <th>80210</th>\n",
       "      <td>80210</td>\n",
       "      <td>NaN</td>\n",
       "      <td>75.0</td>\n",
       "      <td>male</td>\n",
       "      <td>posterior torso</td>\n",
       "      <td>3.32</td>\n",
       "      <td>3D: white</td>\n",
       "      <td>22.596327</td>\n",
       "      <td>20.186998</td>\n",
       "      <td>30.480790</td>\n",
       "      <td>...</td>\n",
       "      <td>9.033031</td>\n",
       "      <td>0.000000</td>\n",
       "      <td>1.321416</td>\n",
       "      <td>2.082772</td>\n",
       "      <td>0.495050</td>\n",
       "      <td>10</td>\n",
       "      <td>-110.265747</td>\n",
       "      <td>1429.494385</td>\n",
       "      <td>156.874146</td>\n",
       "      <td>/projectnb/cs640grp/materials/ISIC-2024_CS640/...</td>\n",
       "    </tr>\n",
       "    <tr>\n",
       "      <th>80211</th>\n",
       "      <td>80211</td>\n",
       "      <td>NaN</td>\n",
       "      <td>70.0</td>\n",
       "      <td>male</td>\n",
       "      <td>posterior torso</td>\n",
       "      <td>3.14</td>\n",
       "      <td>3D: white</td>\n",
       "      <td>19.856977</td>\n",
       "      <td>16.932049</td>\n",
       "      <td>22.454427</td>\n",
       "      <td>...</td>\n",
       "      <td>9.340242</td>\n",
       "      <td>1.366712</td>\n",
       "      <td>3.948254</td>\n",
       "      <td>2.571864</td>\n",
       "      <td>0.313609</td>\n",
       "      <td>55</td>\n",
       "      <td>-126.982124</td>\n",
       "      <td>1117.368408</td>\n",
       "      <td>166.916687</td>\n",
       "      <td>/projectnb/cs640grp/materials/ISIC-2024_CS640/...</td>\n",
       "    </tr>\n",
       "  </tbody>\n",
       "</table>\n",
       "<p>80212 rows × 42 columns</p>\n",
       "</div>"
      ],
      "text/plain": [
       "          id  target  age_approx     sex anatom_site_general  \\\n",
       "0          0     NaN        30.0    male     upper extremity   \n",
       "1          1     NaN        75.0    male     upper extremity   \n",
       "2          2     NaN        30.0    male     lower extremity   \n",
       "3          3     NaN        45.0  female     upper extremity   \n",
       "4          4     NaN        55.0    male      anterior torso   \n",
       "...      ...     ...         ...     ...                 ...   \n",
       "80207  80207     NaN        75.0    male     posterior torso   \n",
       "80208  80208     NaN        50.0    male     upper extremity   \n",
       "80209  80209     NaN        40.0  female     upper extremity   \n",
       "80210  80210     NaN        75.0    male     posterior torso   \n",
       "80211  80211     NaN        70.0    male     posterior torso   \n",
       "\n",
       "       clin_size_long_diam_mm tbp_tile_type   tbp_lv_A  tbp_lv_Aext  \\\n",
       "0                        2.52     3D: white  20.739760    17.346250   \n",
       "1                        2.63     3D: white  21.498600    17.128050   \n",
       "2                       18.31        3D: XP  21.261867    15.949655   \n",
       "3                        3.55        3D: XP  21.087236    15.657230   \n",
       "4                        7.06     3D: white  22.121790    14.444030   \n",
       "...                       ...           ...        ...          ...   \n",
       "80207                    2.88     3D: white  20.565030    15.228920   \n",
       "80208                    4.20     3D: white  16.314590    14.611030   \n",
       "80209                    2.90        3D: XP  21.597580    17.705739   \n",
       "80210                    3.32     3D: white  22.596327    20.186998   \n",
       "80211                    3.14     3D: white  19.856977    16.932049   \n",
       "\n",
       "        tbp_lv_B  ...  tbp_lv_perimeterMM  tbp_lv_radial_color_std_max  \\\n",
       "0      23.604410  ...            9.113276                     0.793600   \n",
       "1      26.919320  ...            6.968501                     1.322546   \n",
       "2      36.927874  ...           67.921989                     1.323685   \n",
       "3      31.419333  ...           10.582854                     0.691356   \n",
       "4      30.308130  ...           19.856620                     0.989644   \n",
       "...          ...  ...                 ...                          ...   \n",
       "80207  30.234170  ...            8.111398                     0.618510   \n",
       "80208  25.403000  ...           11.952720                     0.599103   \n",
       "80209  27.266721  ...            8.872541                     1.076741   \n",
       "80210  30.480790  ...            9.033031                     0.000000   \n",
       "80211  22.454427  ...            9.340242                     1.366712   \n",
       "\n",
       "       tbp_lv_stdL  tbp_lv_stdLExt  tbp_lv_symm_2axis  \\\n",
       "0         1.368380        3.130576           0.392593   \n",
       "1         2.980941        2.610491           0.342857   \n",
       "2         1.912243        3.394053           0.385400   \n",
       "3         1.349557        1.570233           0.250000   \n",
       "4         3.126280        2.467318           0.227068   \n",
       "...            ...             ...                ...   \n",
       "80207     2.274461        1.914292           0.232000   \n",
       "80208     1.422653        2.196585           0.331522   \n",
       "80209     3.248064        1.624508           0.359477   \n",
       "80210     1.321416        2.082772           0.495050   \n",
       "80211     3.948254        2.571864           0.313609   \n",
       "\n",
       "       tbp_lv_symm_2axis_angle    tbp_lv_x     tbp_lv_y    tbp_lv_z  \\\n",
       "0                           85 -352.631000  1024.501000   21.431270   \n",
       "1                          150  317.008100  1296.112000   85.410520   \n",
       "2                          145 -185.792664   680.623718  -21.791901   \n",
       "3                          155  443.583984  1213.412598   39.409851   \n",
       "4                           70 -162.127900  1043.082000  -44.661830   \n",
       "...                        ...         ...          ...         ...   \n",
       "80207                       10  -72.637900  1487.536000  138.852900   \n",
       "80208                       45 -477.687100  1121.040000  -38.915830   \n",
       "80209                       25  442.464355  1128.834351   31.510681   \n",
       "80210                       10 -110.265747  1429.494385  156.874146   \n",
       "80211                       55 -126.982124  1117.368408  166.916687   \n",
       "\n",
       "                                               file_path  \n",
       "0      /projectnb/cs640grp/materials/ISIC-2024_CS640/...  \n",
       "1      /projectnb/cs640grp/materials/ISIC-2024_CS640/...  \n",
       "2      /projectnb/cs640grp/materials/ISIC-2024_CS640/...  \n",
       "3      /projectnb/cs640grp/materials/ISIC-2024_CS640/...  \n",
       "4      /projectnb/cs640grp/materials/ISIC-2024_CS640/...  \n",
       "...                                                  ...  \n",
       "80207  /projectnb/cs640grp/materials/ISIC-2024_CS640/...  \n",
       "80208  /projectnb/cs640grp/materials/ISIC-2024_CS640/...  \n",
       "80209  /projectnb/cs640grp/materials/ISIC-2024_CS640/...  \n",
       "80210  /projectnb/cs640grp/materials/ISIC-2024_CS640/...  \n",
       "80211  /projectnb/cs640grp/materials/ISIC-2024_CS640/...  \n",
       "\n",
       "[80212 rows x 42 columns]"
      ]
     },
     "execution_count": 222,
     "metadata": {},
     "output_type": "execute_result"
    }
   ],
   "source": [
    "df_test = pd.read_csv(f\"{ROOT_DIR}/test_metadata.csv\")\n",
    "df_test['file_path'] = df_test['id'].apply(get_test_file_path)\n",
    "df_test = df_test[ df_test[\"file_path\"].isin(test_images) ].reset_index(drop=True)\n",
    "df_test\n"
   ]
  },
  {
   "cell_type": "code",
   "execution_count": 223,
   "metadata": {},
   "outputs": [],
   "source": [
    "test_dataset = ISICDataset(df_test, transforms=data_transforms[\"valid\"])\n",
    "test_dataloader = DataLoader(test_dataset, batch_size=32, \n",
    "                              num_workers=2, shuffle=False, pin_memory=True)"
   ]
  },
  {
   "cell_type": "code",
   "execution_count": 224,
   "metadata": {},
   "outputs": [
    {
     "name": "stdout",
     "output_type": "stream",
     "text": [
      "['/projectnb/cs640grp/materials/ISIC-2024_CS640/test_image/0.jpg'\n",
      " '/projectnb/cs640grp/materials/ISIC-2024_CS640/test_image/1.jpg'\n",
      " '/projectnb/cs640grp/materials/ISIC-2024_CS640/test_image/2.jpg' ...\n",
      " '/projectnb/cs640grp/materials/ISIC-2024_CS640/test_image/80209.jpg'\n",
      " '/projectnb/cs640grp/materials/ISIC-2024_CS640/test_image/80210.jpg'\n",
      " '/projectnb/cs640grp/materials/ISIC-2024_CS640/test_image/80211.jpg']\n"
     ]
    }
   ],
   "source": [
    "print(test_dataset.file_names)"
   ]
  },
  {
   "cell_type": "code",
   "execution_count": 225,
   "metadata": {},
   "outputs": [
    {
     "name": "stdout",
     "output_type": "stream",
     "text": [
      "2507\n",
      "80212\n"
     ]
    }
   ],
   "source": [
    "print(len(test_dataloader))\n",
    "print(len(test_dataset))"
   ]
  },
  {
   "cell_type": "code",
   "execution_count": 226,
   "metadata": {},
   "outputs": [
    {
     "name": "stderr",
     "output_type": "stream",
     "text": [
      "100%|██████████| 2507/2507 [01:25<00:00, 29.21it/s]\n"
     ]
    }
   ],
   "source": [
    "from torch.nn.functional import sigmoid\n",
    "all_probs = []\n",
    "\n",
    "bar = tqdm(enumerate(test_dataloader), total=len(test_dataloader))\n",
    "with torch.no_grad():  # Turn off gradients\n",
    "    for step, data in bar:        \n",
    "        images = data['image'].to(device=CONFIG['device'], dtype=torch.float)\n",
    "        outputs = model(images)\n",
    "        probs = sigmoid(outputs)\n",
    "   \n",
    "        all_probs.extend(probs.cpu().detach().numpy())\n",
    "all_probs = np.array(all_probs)"
   ]
  },
  {
   "cell_type": "code",
   "execution_count": 227,
   "metadata": {},
   "outputs": [
    {
     "data": {
      "text/plain": [
       "array([[0.50000024],\n",
       "       [0.5       ],\n",
       "       [0.50000393],\n",
       "       ...,\n",
       "       [0.50016177],\n",
       "       [0.54146075],\n",
       "       [0.7304885 ]], dtype=float32)"
      ]
     },
     "execution_count": 227,
     "metadata": {},
     "output_type": "execute_result"
    }
   ],
   "source": [
    "all_probs"
   ]
  },
  {
   "cell_type": "code",
   "execution_count": 228,
   "metadata": {},
   "outputs": [
    {
     "data": {
      "text/plain": [
       "80212"
      ]
     },
     "execution_count": 228,
     "metadata": {},
     "output_type": "execute_result"
    }
   ],
   "source": [
    "len(all_probs)"
   ]
  },
  {
   "cell_type": "code",
   "execution_count": null,
   "metadata": {},
   "outputs": [],
   "source": []
  }
 ],
 "metadata": {
  "kaggle": {
   "accelerator": "gpu",
   "dataSources": [
    {
     "databundleVersionId": 9094797,
     "sourceId": 63056,
     "sourceType": "competition"
    },
    {
     "modelId": 312,
     "modelInstanceId": 2656,
     "sourceId": 3729,
     "sourceType": "modelInstanceVersion"
    }
   ],
   "isGpuEnabled": true,
   "isInternetEnabled": true,
   "language": "python",
   "sourceType": "notebook"
  },
  "kernelspec": {
   "display_name": "Python 3 (ipykernel)",
   "language": "python",
   "name": "python3"
  },
  "language_info": {
   "codemirror_mode": {
    "name": "ipython",
    "version": 3
   },
   "file_extension": ".py",
   "mimetype": "text/x-python",
   "name": "python",
   "nbconvert_exporter": "python",
   "pygments_lexer": "ipython3",
   "version": "3.11.9"
  },
  "papermill": {
   "default_parameters": {},
   "duration": 793.680734,
   "end_time": "2024-06-29T23:30:34.642937",
   "environment_variables": {},
   "exception": null,
   "input_path": "__notebook__.ipynb",
   "output_path": "__notebook__.ipynb",
   "parameters": {},
   "start_time": "2024-06-29T23:17:20.962203",
   "version": "2.5.0"
  },
  "widgets": {
   "application/vnd.jupyter.widget-state+json": {
    "state": {
     "14f33eda98294bf7ab2c201ef8c071b0": {
      "model_module": "@jupyter-widgets/controls",
      "model_module_version": "1.5.0",
      "model_name": "HTMLModel",
      "state": {
       "_dom_classes": [],
       "_model_module": "@jupyter-widgets/controls",
       "_model_module_version": "1.5.0",
       "_model_name": "HTMLModel",
       "_view_count": null,
       "_view_module": "@jupyter-widgets/controls",
       "_view_module_version": "1.5.0",
       "_view_name": "HTMLView",
       "description": "",
       "description_tooltip": null,
       "layout": "IPY_MODEL_efc119d2e1e0456fa0a6593c16a85dc2",
       "placeholder": "​",
       "style": "IPY_MODEL_f4be4b7893f14d71a8658ad521e9d4e9",
       "value": " 21.4M/21.4M [00:00&lt;00:00, 41.1MB/s]"
      }
     },
     "18bdb1a4a13e4aee9cc51601b980aca0": {
      "model_module": "@jupyter-widgets/base",
      "model_module_version": "1.2.0",
      "model_name": "LayoutModel",
      "state": {
       "_model_module": "@jupyter-widgets/base",
       "_model_module_version": "1.2.0",
       "_model_name": "LayoutModel",
       "_view_count": null,
       "_view_module": "@jupyter-widgets/base",
       "_view_module_version": "1.2.0",
       "_view_name": "LayoutView",
       "align_content": null,
       "align_items": null,
       "align_self": null,
       "border": null,
       "bottom": null,
       "display": null,
       "flex": null,
       "flex_flow": null,
       "grid_area": null,
       "grid_auto_columns": null,
       "grid_auto_flow": null,
       "grid_auto_rows": null,
       "grid_column": null,
       "grid_gap": null,
       "grid_row": null,
       "grid_template_areas": null,
       "grid_template_columns": null,
       "grid_template_rows": null,
       "height": null,
       "justify_content": null,
       "justify_items": null,
       "left": null,
       "margin": null,
       "max_height": null,
       "max_width": null,
       "min_height": null,
       "min_width": null,
       "object_fit": null,
       "object_position": null,
       "order": null,
       "overflow": null,
       "overflow_x": null,
       "overflow_y": null,
       "padding": null,
       "right": null,
       "top": null,
       "visibility": null,
       "width": null
      }
     },
     "244eb860d230481c85c8db4fd77fb99a": {
      "model_module": "@jupyter-widgets/controls",
      "model_module_version": "1.5.0",
      "model_name": "HBoxModel",
      "state": {
       "_dom_classes": [],
       "_model_module": "@jupyter-widgets/controls",
       "_model_module_version": "1.5.0",
       "_model_name": "HBoxModel",
       "_view_count": null,
       "_view_module": "@jupyter-widgets/controls",
       "_view_module_version": "1.5.0",
       "_view_name": "HBoxView",
       "box_style": "",
       "children": [
        "IPY_MODEL_47503710d50a4aaba66bd273e31797b0",
        "IPY_MODEL_938dc29705ca4174ab708b0e84ac456c",
        "IPY_MODEL_14f33eda98294bf7ab2c201ef8c071b0"
       ],
       "layout": "IPY_MODEL_18bdb1a4a13e4aee9cc51601b980aca0"
      }
     },
     "256368e0b8da40ffaab43806b6e7bdfc": {
      "model_module": "@jupyter-widgets/controls",
      "model_module_version": "1.5.0",
      "model_name": "ProgressStyleModel",
      "state": {
       "_model_module": "@jupyter-widgets/controls",
       "_model_module_version": "1.5.0",
       "_model_name": "ProgressStyleModel",
       "_view_count": null,
       "_view_module": "@jupyter-widgets/base",
       "_view_module_version": "1.2.0",
       "_view_name": "StyleView",
       "bar_color": null,
       "description_width": ""
      }
     },
     "47503710d50a4aaba66bd273e31797b0": {
      "model_module": "@jupyter-widgets/controls",
      "model_module_version": "1.5.0",
      "model_name": "HTMLModel",
      "state": {
       "_dom_classes": [],
       "_model_module": "@jupyter-widgets/controls",
       "_model_module_version": "1.5.0",
       "_model_name": "HTMLModel",
       "_view_count": null,
       "_view_module": "@jupyter-widgets/controls",
       "_view_module_version": "1.5.0",
       "_view_name": "HTMLView",
       "description": "",
       "description_tooltip": null,
       "layout": "IPY_MODEL_a1c7099741224d6d95e8f291dac107aa",
       "placeholder": "​",
       "style": "IPY_MODEL_e70b5a1f96bf4ddf9ac9271b3aa6ad1a",
       "value": "model.safetensors: 100%"
      }
     },
     "938dc29705ca4174ab708b0e84ac456c": {
      "model_module": "@jupyter-widgets/controls",
      "model_module_version": "1.5.0",
      "model_name": "FloatProgressModel",
      "state": {
       "_dom_classes": [],
       "_model_module": "@jupyter-widgets/controls",
       "_model_module_version": "1.5.0",
       "_model_name": "FloatProgressModel",
       "_view_count": null,
       "_view_module": "@jupyter-widgets/controls",
       "_view_module_version": "1.5.0",
       "_view_name": "ProgressView",
       "bar_style": "success",
       "description": "",
       "description_tooltip": null,
       "layout": "IPY_MODEL_c198e83f65a043f6b6886c6984bf6303",
       "max": 21355344,
       "min": 0,
       "orientation": "horizontal",
       "style": "IPY_MODEL_256368e0b8da40ffaab43806b6e7bdfc",
       "value": 21355344
      }
     },
     "a1c7099741224d6d95e8f291dac107aa": {
      "model_module": "@jupyter-widgets/base",
      "model_module_version": "1.2.0",
      "model_name": "LayoutModel",
      "state": {
       "_model_module": "@jupyter-widgets/base",
       "_model_module_version": "1.2.0",
       "_model_name": "LayoutModel",
       "_view_count": null,
       "_view_module": "@jupyter-widgets/base",
       "_view_module_version": "1.2.0",
       "_view_name": "LayoutView",
       "align_content": null,
       "align_items": null,
       "align_self": null,
       "border": null,
       "bottom": null,
       "display": null,
       "flex": null,
       "flex_flow": null,
       "grid_area": null,
       "grid_auto_columns": null,
       "grid_auto_flow": null,
       "grid_auto_rows": null,
       "grid_column": null,
       "grid_gap": null,
       "grid_row": null,
       "grid_template_areas": null,
       "grid_template_columns": null,
       "grid_template_rows": null,
       "height": null,
       "justify_content": null,
       "justify_items": null,
       "left": null,
       "margin": null,
       "max_height": null,
       "max_width": null,
       "min_height": null,
       "min_width": null,
       "object_fit": null,
       "object_position": null,
       "order": null,
       "overflow": null,
       "overflow_x": null,
       "overflow_y": null,
       "padding": null,
       "right": null,
       "top": null,
       "visibility": null,
       "width": null
      }
     },
     "c198e83f65a043f6b6886c6984bf6303": {
      "model_module": "@jupyter-widgets/base",
      "model_module_version": "1.2.0",
      "model_name": "LayoutModel",
      "state": {
       "_model_module": "@jupyter-widgets/base",
       "_model_module_version": "1.2.0",
       "_model_name": "LayoutModel",
       "_view_count": null,
       "_view_module": "@jupyter-widgets/base",
       "_view_module_version": "1.2.0",
       "_view_name": "LayoutView",
       "align_content": null,
       "align_items": null,
       "align_self": null,
       "border": null,
       "bottom": null,
       "display": null,
       "flex": null,
       "flex_flow": null,
       "grid_area": null,
       "grid_auto_columns": null,
       "grid_auto_flow": null,
       "grid_auto_rows": null,
       "grid_column": null,
       "grid_gap": null,
       "grid_row": null,
       "grid_template_areas": null,
       "grid_template_columns": null,
       "grid_template_rows": null,
       "height": null,
       "justify_content": null,
       "justify_items": null,
       "left": null,
       "margin": null,
       "max_height": null,
       "max_width": null,
       "min_height": null,
       "min_width": null,
       "object_fit": null,
       "object_position": null,
       "order": null,
       "overflow": null,
       "overflow_x": null,
       "overflow_y": null,
       "padding": null,
       "right": null,
       "top": null,
       "visibility": null,
       "width": null
      }
     },
     "e70b5a1f96bf4ddf9ac9271b3aa6ad1a": {
      "model_module": "@jupyter-widgets/controls",
      "model_module_version": "1.5.0",
      "model_name": "DescriptionStyleModel",
      "state": {
       "_model_module": "@jupyter-widgets/controls",
       "_model_module_version": "1.5.0",
       "_model_name": "DescriptionStyleModel",
       "_view_count": null,
       "_view_module": "@jupyter-widgets/base",
       "_view_module_version": "1.2.0",
       "_view_name": "StyleView",
       "description_width": ""
      }
     },
     "efc119d2e1e0456fa0a6593c16a85dc2": {
      "model_module": "@jupyter-widgets/base",
      "model_module_version": "1.2.0",
      "model_name": "LayoutModel",
      "state": {
       "_model_module": "@jupyter-widgets/base",
       "_model_module_version": "1.2.0",
       "_model_name": "LayoutModel",
       "_view_count": null,
       "_view_module": "@jupyter-widgets/base",
       "_view_module_version": "1.2.0",
       "_view_name": "LayoutView",
       "align_content": null,
       "align_items": null,
       "align_self": null,
       "border": null,
       "bottom": null,
       "display": null,
       "flex": null,
       "flex_flow": null,
       "grid_area": null,
       "grid_auto_columns": null,
       "grid_auto_flow": null,
       "grid_auto_rows": null,
       "grid_column": null,
       "grid_gap": null,
       "grid_row": null,
       "grid_template_areas": null,
       "grid_template_columns": null,
       "grid_template_rows": null,
       "height": null,
       "justify_content": null,
       "justify_items": null,
       "left": null,
       "margin": null,
       "max_height": null,
       "max_width": null,
       "min_height": null,
       "min_width": null,
       "object_fit": null,
       "object_position": null,
       "order": null,
       "overflow": null,
       "overflow_x": null,
       "overflow_y": null,
       "padding": null,
       "right": null,
       "top": null,
       "visibility": null,
       "width": null
      }
     },
     "f4be4b7893f14d71a8658ad521e9d4e9": {
      "model_module": "@jupyter-widgets/controls",
      "model_module_version": "1.5.0",
      "model_name": "DescriptionStyleModel",
      "state": {
       "_model_module": "@jupyter-widgets/controls",
       "_model_module_version": "1.5.0",
       "_model_name": "DescriptionStyleModel",
       "_view_count": null,
       "_view_module": "@jupyter-widgets/base",
       "_view_module_version": "1.2.0",
       "_view_name": "StyleView",
       "description_width": ""
      }
     }
    },
    "version_major": 2,
    "version_minor": 0
   }
  }
 },
 "nbformat": 4,
 "nbformat_minor": 4
}
